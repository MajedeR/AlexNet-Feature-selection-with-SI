{
  "nbformat": 4,
  "nbformat_minor": 0,
  "metadata": {
    "colab": {
      "provenance": [],
      "collapsed_sections": [
        "dB86ysey8td9",
        "VD9g216X8LCQ",
        "X5GscFbx8SBj",
        "CWVU7XZU9B8P",
        "qkckcanDvBve"
      ]
    },
    "kernelspec": {
      "name": "python3",
      "display_name": "Python 3"
    },
    "language_info": {
      "name": "python"
    }
  },
  "cells": [
    {
      "cell_type": "markdown",
      "source": [
        "#AlexNet model with maxpooling layer after each conv layer\n",
        "\n",
        "##Train with 1220 Data"
      ],
      "metadata": {
        "id": "bKYYzoMK8XsR"
      }
    },
    {
      "cell_type": "markdown",
      "source": [
        "#importing"
      ],
      "metadata": {
        "id": "dB86ysey8td9"
      }
    },
    {
      "cell_type": "code",
      "source": [
        "from torch.utils.data import  random_split, ConcatDataset\n",
        "import torch\n",
        "import torch.nn as nn\n",
        "import torch.optim as optim\n",
        "import torchvision\n",
        "import torchvision.transforms as transforms\n",
        "import matplotlib.pyplot as plt"
      ],
      "metadata": {
        "id": "O0Ff8ilq8vi3"
      },
      "execution_count": null,
      "outputs": []
    },
    {
      "cell_type": "code",
      "source": [
        "# from google.colab import drive\n",
        "# drive.mount('/content/drive')"
      ],
      "metadata": {
        "id": "3EOuBzpbH6JP"
      },
      "execution_count": null,
      "outputs": []
    },
    {
      "cell_type": "markdown",
      "source": [
        "#Create model"
      ],
      "metadata": {
        "id": "VD9g216X8LCQ"
      }
    },
    {
      "cell_type": "code",
      "source": [
        "# Define the AlexNet model\n",
        "class AlexNet(nn.Module):\n",
        "    def __init__(self, num=10):\n",
        "        super(AlexNet, self).__init__()\n",
        "        self.feature = nn.Sequential(\n",
        "            nn.Conv2d(1, 32, kernel_size=5, stride=1, padding=1),\n",
        "            nn.ReLU(inplace=True),\n",
        "            nn.MaxPool2d( kernel_size=2, stride=1),\n",
        "            nn.Conv2d(32, 64, kernel_size=3, padding=1),\n",
        "            nn.ReLU(inplace=True),\n",
        "            nn.MaxPool2d( kernel_size=2, stride=2),\n",
        "            nn.Conv2d(64, 96, kernel_size=3, padding=1),\n",
        "            nn.ReLU(inplace=True),\n",
        "            nn.MaxPool2d( kernel_size=2, stride=1),\n",
        "            nn.Conv2d(96, 64, kernel_size=3, padding=1),\n",
        "            nn.ReLU(inplace=True),\n",
        "            nn.MaxPool2d( kernel_size=2, stride=1),\n",
        "            nn.Conv2d(64, 32, kernel_size=3, padding=1),\n",
        "            nn.ReLU(inplace=True),\n",
        "            nn.MaxPool2d( kernel_size=2, stride=1),\n",
        "        )\n",
        "        self.classifier = nn.Sequential(\n",
        "            nn.Dropout(),\n",
        "            nn.Linear(32*9*9,2048),\n",
        "            nn.ReLU(inplace=True),\n",
        "            nn.Dropout(),\n",
        "            nn.Linear(2048,1024),\n",
        "            nn.ReLU(inplace=True),\n",
        "            nn.Linear(1024,num),\n",
        "\n",
        "        )\n",
        "\n",
        "    def forward(self, x):\n",
        "\n",
        "        x = self.feature(x)\n",
        "        # print(x.shape)\n",
        "        x = x.view(-1,32*9*9)\n",
        "        x = self.classifier(x)\n",
        "        return x"
      ],
      "metadata": {
        "id": "YhJPn55zu-Ew"
      },
      "execution_count": null,
      "outputs": []
    },
    {
      "cell_type": "code",
      "source": [
        "model = AlexNet()"
      ],
      "metadata": {
        "id": "GOlYP4IQ5tch"
      },
      "execution_count": null,
      "outputs": []
    },
    {
      "cell_type": "markdown",
      "source": [
        "# Data set"
      ],
      "metadata": {
        "id": "X5GscFbx8SBj"
      }
    },
    {
      "cell_type": "code",
      "source": [
        "# Define dataset transformations and load the MNIST dataset\n",
        "transform = transforms.Compose([transforms.ToTensor()])\n",
        "\n",
        "dataset = torchvision.datasets.MNIST(root='./data', train=True, transform=transform, download=True)\n",
        "testset = torchvision.datasets.MNIST(root='./data', train=False, transform=transform, download=True)"
      ],
      "metadata": {
        "id": "V0EYQnZU8Q5_"
      },
      "execution_count": null,
      "outputs": []
    },
    {
      "cell_type": "code",
      "source": [
        "#Download train dataset from mnist dataset\n",
        "num_samples_per_class = 122\n",
        "\n",
        "total_samples = num_samples_per_class * 10\n",
        "\n",
        "class_indices = dataset.targets.unique()\n",
        "datasets_per_class = []\n",
        "for class_index in class_indices:\n",
        "    class_samples = [i for i, label in enumerate(dataset.targets) if label == class_index]\n",
        "    selected_samples = class_samples[:num_samples_per_class]\n",
        "    selected_dataset = torch.utils.data.Subset(dataset, selected_samples)\n",
        "    datasets_per_class.append(selected_dataset)\n",
        "\n",
        "dataset = ConcatDataset(datasets_per_class)"
      ],
      "metadata": {
        "id": "ZbdkNzhcxWda"
      },
      "execution_count": null,
      "outputs": []
    },
    {
      "cell_type": "code",
      "source": [
        "#creat train and validatin dataset\n",
        "train_size = int(0.8 * len(dataset))\n",
        "val_size = len(dataset) - train_size\n",
        "\n",
        "train_dataset, val_dataset = random_split(dataset, [train_size, val_size])"
      ],
      "metadata": {
        "id": "ruUBieUB8qpl"
      },
      "execution_count": null,
      "outputs": []
    },
    {
      "cell_type": "code",
      "source": [
        "train_loader = torch.utils.data.DataLoader(train_dataset, batch_size=64, shuffle=True)\n",
        "test_loader = torch.utils.data.DataLoader(testset, batch_size=64, shuffle=False)\n",
        "val_loader = torch.utils.data.DataLoader(val_dataset, batch_size=64, shuffle=True)"
      ],
      "metadata": {
        "id": "FPVGgRGM8f6w"
      },
      "execution_count": null,
      "outputs": []
    },
    {
      "cell_type": "code",
      "execution_count": null,
      "metadata": {
        "id": "9rv2fOanvyyE"
      },
      "outputs": [],
      "source": [
        "# Define the transformations\n",
        "transform = transforms.Compose([transforms.ToTensor()])"
      ]
    },
    {
      "cell_type": "code",
      "source": [
        "# dataset = torch.utils.data.DataLoader(dataset, batch_size=64, shuffle=True)"
      ],
      "metadata": {
        "id": "uMuSoZz3-xPX"
      },
      "execution_count": null,
      "outputs": []
    },
    {
      "cell_type": "markdown",
      "source": [
        "#Train model"
      ],
      "metadata": {
        "id": "CWVU7XZU9B8P"
      }
    },
    {
      "cell_type": "code",
      "source": [
        "#choose device\n",
        "device = torch.device(\"cuda\" if torch.cuda.is_available() else \"cpu\")"
      ],
      "metadata": {
        "id": "j_lj98HEXSWA"
      },
      "execution_count": null,
      "outputs": []
    },
    {
      "cell_type": "code",
      "source": [
        "model.to(device)"
      ],
      "metadata": {
        "colab": {
          "base_uri": "https://localhost:8080/"
        },
        "id": "1TtWtVkwXZyA",
        "outputId": "6f292f15-fb2e-4bed-e1e8-ab1c368eba12"
      },
      "execution_count": null,
      "outputs": [
        {
          "output_type": "execute_result",
          "data": {
            "text/plain": [
              "AlexNet(\n",
              "  (feature): Sequential(\n",
              "    (0): Conv2d(1, 32, kernel_size=(5, 5), stride=(1, 1), padding=(1, 1))\n",
              "    (1): ReLU(inplace=True)\n",
              "    (2): MaxPool2d(kernel_size=2, stride=1, padding=0, dilation=1, ceil_mode=False)\n",
              "    (3): Conv2d(32, 64, kernel_size=(3, 3), stride=(1, 1), padding=(1, 1))\n",
              "    (4): ReLU(inplace=True)\n",
              "    (5): MaxPool2d(kernel_size=2, stride=2, padding=0, dilation=1, ceil_mode=False)\n",
              "    (6): Conv2d(64, 96, kernel_size=(3, 3), stride=(1, 1), padding=(1, 1))\n",
              "    (7): ReLU(inplace=True)\n",
              "    (8): MaxPool2d(kernel_size=2, stride=1, padding=0, dilation=1, ceil_mode=False)\n",
              "    (9): Conv2d(96, 64, kernel_size=(3, 3), stride=(1, 1), padding=(1, 1))\n",
              "    (10): ReLU(inplace=True)\n",
              "    (11): MaxPool2d(kernel_size=2, stride=1, padding=0, dilation=1, ceil_mode=False)\n",
              "    (12): Conv2d(64, 32, kernel_size=(3, 3), stride=(1, 1), padding=(1, 1))\n",
              "    (13): ReLU(inplace=True)\n",
              "    (14): MaxPool2d(kernel_size=2, stride=1, padding=0, dilation=1, ceil_mode=False)\n",
              "  )\n",
              "  (classifier): Sequential(\n",
              "    (0): Dropout(p=0.5, inplace=False)\n",
              "    (1): Linear(in_features=2592, out_features=2048, bias=True)\n",
              "    (2): ReLU(inplace=True)\n",
              "    (3): Dropout(p=0.5, inplace=False)\n",
              "    (4): Linear(in_features=2048, out_features=1024, bias=True)\n",
              "    (5): ReLU(inplace=True)\n",
              "    (6): Linear(in_features=1024, out_features=10, bias=True)\n",
              "  )\n",
              ")"
            ]
          },
          "metadata": {},
          "execution_count": 12
        }
      ]
    },
    {
      "cell_type": "code",
      "source": [
        "#Definition optimal function and loss function\n",
        "criterion = torch.nn.CrossEntropyLoss()\n",
        "optimizer = torch.optim.Adam(model.parameters(), lr=0.001)"
      ],
      "metadata": {
        "id": "xhfK6z6S7NX_"
      },
      "execution_count": null,
      "outputs": []
    },
    {
      "cell_type": "code",
      "source": [
        "#train model\n",
        "train_accs = []\n",
        "val_accs = []\n",
        "train_losses = []\n",
        "val_losses = []\n",
        "\n",
        "num_epochs = 400\n",
        "for epoch in range(num_epochs):\n",
        "    model.train()\n",
        "    running_loss = 0.0\n",
        "    correct_train = 0\n",
        "    total_train = 0\n",
        "\n",
        "\n",
        "    for inputs, labels in train_loader:\n",
        "        inputs = inputs.to(device)\n",
        "        labels = labels.to(device)\n",
        "\n",
        "        optimizer.zero_grad()\n",
        "\n",
        "\n",
        "        outputs = model(inputs)\n",
        "        loss = criterion(outputs, labels)\n",
        "        loss.backward()\n",
        "        optimizer.step()\n",
        "\n",
        "        running_loss += loss.item()\n",
        "\n",
        "        _, predicted = torch.max(outputs.data, 1)\n",
        "        total_train += labels.size(0)\n",
        "        correct_train += (predicted == labels).sum().item()\n",
        "\n",
        "    model.eval()\n",
        "    correct_val = 0\n",
        "    total_val = 0\n",
        "    val_loss = 0.0\n",
        "\n",
        "    with torch.no_grad():\n",
        "        for inputs, labels in val_loader:\n",
        "            inputs = inputs.to(device)\n",
        "            labels = labels.to(device)\n",
        "\n",
        "            outputs = model(inputs)\n",
        "            val_loss += criterion(outputs, labels).item()\n",
        "\n",
        "            _, predicted = torch.max(outputs.data, 1)\n",
        "            total_val += labels.size(0)\n",
        "            correct_val += (predicted == labels).sum().item()\n",
        "\n",
        "    train_accuracy = 100 * correct_train / total_train\n",
        "    val_accuracy = 100 * correct_val / total_val\n",
        "    train_accs.append(train_accuracy)\n",
        "    val_accs.append(val_accuracy)\n",
        "    train_losses.append(running_loss / len(train_loader))\n",
        "    val_losses.append(val_loss / len(val_loader))\n",
        "\n",
        "    print('Epoch [{}/{}], Loss: {:.4f}, Train Accuracy: {:.2f}%, Validation Accuracy: {:.2f}%' .format(epoch + 1, num_epochs, running_loss / len(train_loader), train_accuracy, val_accuracy))"
      ],
      "metadata": {
        "id": "D7_-oFpAFoUM",
        "colab": {
          "base_uri": "https://localhost:8080/"
        },
        "outputId": "30b645c1-699b-4cb9-f53a-b990c471843d"
      },
      "execution_count": null,
      "outputs": [
        {
          "output_type": "stream",
          "name": "stdout",
          "text": [
            "Epoch [1/400], Loss: 2.2985, Train Accuracy: 13.42%, Validation Accuracy: 11.07%\n",
            "Epoch [2/400], Loss: 1.6615, Train Accuracy: 39.24%, Validation Accuracy: 65.98%\n",
            "Epoch [3/400], Loss: 0.7929, Train Accuracy: 73.26%, Validation Accuracy: 82.79%\n",
            "Epoch [4/400], Loss: 0.5001, Train Accuracy: 85.04%, Validation Accuracy: 85.25%\n",
            "Epoch [5/400], Loss: 0.3855, Train Accuracy: 87.50%, Validation Accuracy: 86.48%\n",
            "Epoch [6/400], Loss: 0.3025, Train Accuracy: 90.78%, Validation Accuracy: 91.80%\n",
            "Epoch [7/400], Loss: 0.2240, Train Accuracy: 92.73%, Validation Accuracy: 91.39%\n",
            "Epoch [8/400], Loss: 0.1741, Train Accuracy: 94.77%, Validation Accuracy: 93.44%\n",
            "Epoch [9/400], Loss: 0.1407, Train Accuracy: 95.70%, Validation Accuracy: 95.08%\n",
            "Epoch [10/400], Loss: 0.1358, Train Accuracy: 96.41%, Validation Accuracy: 94.26%\n",
            "Epoch [11/400], Loss: 0.1491, Train Accuracy: 96.00%, Validation Accuracy: 94.26%\n",
            "Epoch [12/400], Loss: 0.0849, Train Accuracy: 97.54%, Validation Accuracy: 92.62%\n",
            "Epoch [13/400], Loss: 0.0829, Train Accuracy: 96.93%, Validation Accuracy: 95.49%\n",
            "Epoch [14/400], Loss: 0.1092, Train Accuracy: 97.13%, Validation Accuracy: 93.03%\n",
            "Epoch [15/400], Loss: 0.1166, Train Accuracy: 96.11%, Validation Accuracy: 95.08%\n",
            "Epoch [16/400], Loss: 0.0921, Train Accuracy: 97.03%, Validation Accuracy: 95.49%\n",
            "Epoch [17/400], Loss: 0.0859, Train Accuracy: 96.93%, Validation Accuracy: 94.67%\n",
            "Epoch [18/400], Loss: 0.0815, Train Accuracy: 97.03%, Validation Accuracy: 94.67%\n",
            "Epoch [19/400], Loss: 0.0690, Train Accuracy: 97.75%, Validation Accuracy: 95.08%\n",
            "Epoch [20/400], Loss: 0.0765, Train Accuracy: 97.64%, Validation Accuracy: 97.13%\n",
            "Epoch [21/400], Loss: 0.0584, Train Accuracy: 97.85%, Validation Accuracy: 95.49%\n",
            "Epoch [22/400], Loss: 0.0684, Train Accuracy: 97.95%, Validation Accuracy: 96.72%\n",
            "Epoch [23/400], Loss: 0.0445, Train Accuracy: 98.87%, Validation Accuracy: 95.49%\n",
            "Epoch [24/400], Loss: 0.0317, Train Accuracy: 98.87%, Validation Accuracy: 96.31%\n",
            "Epoch [25/400], Loss: 0.0210, Train Accuracy: 99.08%, Validation Accuracy: 96.31%\n",
            "Epoch [26/400], Loss: 0.0139, Train Accuracy: 99.69%, Validation Accuracy: 95.90%\n",
            "Epoch [27/400], Loss: 0.0223, Train Accuracy: 99.39%, Validation Accuracy: 96.31%\n",
            "Epoch [28/400], Loss: 0.0121, Train Accuracy: 99.69%, Validation Accuracy: 95.49%\n",
            "Epoch [29/400], Loss: 0.0221, Train Accuracy: 99.28%, Validation Accuracy: 95.90%\n",
            "Epoch [30/400], Loss: 0.0472, Train Accuracy: 98.67%, Validation Accuracy: 96.31%\n",
            "Epoch [31/400], Loss: 0.0178, Train Accuracy: 99.39%, Validation Accuracy: 96.31%\n",
            "Epoch [32/400], Loss: 0.0272, Train Accuracy: 98.87%, Validation Accuracy: 95.90%\n",
            "Epoch [33/400], Loss: 0.0475, Train Accuracy: 98.36%, Validation Accuracy: 93.44%\n",
            "Epoch [34/400], Loss: 0.1113, Train Accuracy: 96.93%, Validation Accuracy: 94.67%\n",
            "Epoch [35/400], Loss: 0.0671, Train Accuracy: 97.85%, Validation Accuracy: 96.31%\n",
            "Epoch [36/400], Loss: 0.0341, Train Accuracy: 98.87%, Validation Accuracy: 95.49%\n",
            "Epoch [37/400], Loss: 0.0320, Train Accuracy: 99.08%, Validation Accuracy: 95.08%\n",
            "Epoch [38/400], Loss: 0.0225, Train Accuracy: 99.18%, Validation Accuracy: 95.90%\n",
            "Epoch [39/400], Loss: 0.0315, Train Accuracy: 98.67%, Validation Accuracy: 96.72%\n",
            "Epoch [40/400], Loss: 0.0434, Train Accuracy: 98.26%, Validation Accuracy: 95.08%\n",
            "Epoch [41/400], Loss: 0.0359, Train Accuracy: 98.87%, Validation Accuracy: 95.08%\n",
            "Epoch [42/400], Loss: 0.0275, Train Accuracy: 98.98%, Validation Accuracy: 94.26%\n",
            "Epoch [43/400], Loss: 0.0173, Train Accuracy: 99.59%, Validation Accuracy: 95.90%\n",
            "Epoch [44/400], Loss: 0.0042, Train Accuracy: 99.90%, Validation Accuracy: 96.31%\n",
            "Epoch [45/400], Loss: 0.0039, Train Accuracy: 99.80%, Validation Accuracy: 96.72%\n",
            "Epoch [46/400], Loss: 0.0106, Train Accuracy: 99.69%, Validation Accuracy: 94.67%\n",
            "Epoch [47/400], Loss: 0.0143, Train Accuracy: 99.49%, Validation Accuracy: 94.26%\n",
            "Epoch [48/400], Loss: 0.0265, Train Accuracy: 99.08%, Validation Accuracy: 95.90%\n",
            "Epoch [49/400], Loss: 0.0686, Train Accuracy: 97.85%, Validation Accuracy: 95.49%\n",
            "Epoch [50/400], Loss: 0.0277, Train Accuracy: 98.67%, Validation Accuracy: 95.49%\n",
            "Epoch [51/400], Loss: 0.0188, Train Accuracy: 99.59%, Validation Accuracy: 93.85%\n",
            "Epoch [52/400], Loss: 0.0274, Train Accuracy: 99.18%, Validation Accuracy: 95.90%\n",
            "Epoch [53/400], Loss: 0.0303, Train Accuracy: 99.28%, Validation Accuracy: 97.13%\n",
            "Epoch [54/400], Loss: 0.0161, Train Accuracy: 99.69%, Validation Accuracy: 95.08%\n",
            "Epoch [55/400], Loss: 0.0146, Train Accuracy: 99.49%, Validation Accuracy: 96.31%\n",
            "Epoch [56/400], Loss: 0.0043, Train Accuracy: 99.80%, Validation Accuracy: 95.08%\n",
            "Epoch [57/400], Loss: 0.0027, Train Accuracy: 100.00%, Validation Accuracy: 94.67%\n",
            "Epoch [58/400], Loss: 0.0037, Train Accuracy: 99.80%, Validation Accuracy: 95.90%\n",
            "Epoch [59/400], Loss: 0.0012, Train Accuracy: 100.00%, Validation Accuracy: 97.13%\n",
            "Epoch [60/400], Loss: 0.0109, Train Accuracy: 99.90%, Validation Accuracy: 96.72%\n",
            "Epoch [61/400], Loss: 0.0158, Train Accuracy: 99.49%, Validation Accuracy: 96.72%\n",
            "Epoch [62/400], Loss: 0.0046, Train Accuracy: 99.80%, Validation Accuracy: 95.49%\n",
            "Epoch [63/400], Loss: 0.0059, Train Accuracy: 99.80%, Validation Accuracy: 95.90%\n",
            "Epoch [64/400], Loss: 0.0108, Train Accuracy: 99.69%, Validation Accuracy: 95.90%\n",
            "Epoch [65/400], Loss: 0.0333, Train Accuracy: 98.98%, Validation Accuracy: 95.49%\n",
            "Epoch [66/400], Loss: 0.0672, Train Accuracy: 98.57%, Validation Accuracy: 95.08%\n",
            "Epoch [67/400], Loss: 0.0303, Train Accuracy: 98.87%, Validation Accuracy: 96.31%\n",
            "Epoch [68/400], Loss: 0.0218, Train Accuracy: 99.08%, Validation Accuracy: 96.31%\n",
            "Epoch [69/400], Loss: 0.0267, Train Accuracy: 99.18%, Validation Accuracy: 95.49%\n",
            "Epoch [70/400], Loss: 0.0437, Train Accuracy: 98.87%, Validation Accuracy: 96.72%\n",
            "Epoch [71/400], Loss: 0.0351, Train Accuracy: 98.87%, Validation Accuracy: 96.31%\n",
            "Epoch [72/400], Loss: 0.0085, Train Accuracy: 99.80%, Validation Accuracy: 95.90%\n",
            "Epoch [73/400], Loss: 0.0126, Train Accuracy: 99.69%, Validation Accuracy: 96.72%\n",
            "Epoch [74/400], Loss: 0.0152, Train Accuracy: 99.39%, Validation Accuracy: 96.31%\n",
            "Epoch [75/400], Loss: 0.0054, Train Accuracy: 99.80%, Validation Accuracy: 95.08%\n",
            "Epoch [76/400], Loss: 0.0047, Train Accuracy: 99.69%, Validation Accuracy: 96.31%\n",
            "Epoch [77/400], Loss: 0.0098, Train Accuracy: 99.69%, Validation Accuracy: 96.31%\n",
            "Epoch [78/400], Loss: 0.0262, Train Accuracy: 99.39%, Validation Accuracy: 95.49%\n",
            "Epoch [79/400], Loss: 0.0800, Train Accuracy: 98.16%, Validation Accuracy: 95.08%\n",
            "Epoch [80/400], Loss: 0.0455, Train Accuracy: 98.46%, Validation Accuracy: 95.90%\n",
            "Epoch [81/400], Loss: 0.0274, Train Accuracy: 99.18%, Validation Accuracy: 97.13%\n",
            "Epoch [82/400], Loss: 0.0123, Train Accuracy: 99.49%, Validation Accuracy: 97.13%\n",
            "Epoch [83/400], Loss: 0.0159, Train Accuracy: 99.28%, Validation Accuracy: 97.13%\n",
            "Epoch [84/400], Loss: 0.0058, Train Accuracy: 99.80%, Validation Accuracy: 97.54%\n",
            "Epoch [85/400], Loss: 0.0106, Train Accuracy: 99.59%, Validation Accuracy: 97.54%\n",
            "Epoch [86/400], Loss: 0.0028, Train Accuracy: 99.90%, Validation Accuracy: 95.49%\n",
            "Epoch [87/400], Loss: 0.0058, Train Accuracy: 99.80%, Validation Accuracy: 96.31%\n",
            "Epoch [88/400], Loss: 0.0176, Train Accuracy: 99.69%, Validation Accuracy: 96.31%\n",
            "Epoch [89/400], Loss: 0.0145, Train Accuracy: 99.49%, Validation Accuracy: 96.72%\n",
            "Epoch [90/400], Loss: 0.0574, Train Accuracy: 98.26%, Validation Accuracy: 92.21%\n",
            "Epoch [91/400], Loss: 0.0794, Train Accuracy: 98.05%, Validation Accuracy: 97.13%\n",
            "Epoch [92/400], Loss: 0.0274, Train Accuracy: 99.39%, Validation Accuracy: 95.08%\n",
            "Epoch [93/400], Loss: 0.0181, Train Accuracy: 99.39%, Validation Accuracy: 95.08%\n",
            "Epoch [94/400], Loss: 0.0294, Train Accuracy: 99.28%, Validation Accuracy: 96.72%\n",
            "Epoch [95/400], Loss: 0.0335, Train Accuracy: 99.28%, Validation Accuracy: 95.90%\n",
            "Epoch [96/400], Loss: 0.0315, Train Accuracy: 99.18%, Validation Accuracy: 97.54%\n",
            "Epoch [97/400], Loss: 0.0106, Train Accuracy: 99.69%, Validation Accuracy: 97.95%\n",
            "Epoch [98/400], Loss: 0.0013, Train Accuracy: 100.00%, Validation Accuracy: 97.54%\n",
            "Epoch [99/400], Loss: 0.0085, Train Accuracy: 99.69%, Validation Accuracy: 97.95%\n",
            "Epoch [100/400], Loss: 0.0236, Train Accuracy: 99.69%, Validation Accuracy: 97.54%\n",
            "Epoch [101/400], Loss: 0.0239, Train Accuracy: 99.39%, Validation Accuracy: 94.67%\n",
            "Epoch [102/400], Loss: 0.0203, Train Accuracy: 99.28%, Validation Accuracy: 95.49%\n",
            "Epoch [103/400], Loss: 0.0214, Train Accuracy: 99.08%, Validation Accuracy: 96.72%\n",
            "Epoch [104/400], Loss: 0.0241, Train Accuracy: 99.08%, Validation Accuracy: 96.72%\n",
            "Epoch [105/400], Loss: 0.0297, Train Accuracy: 99.39%, Validation Accuracy: 92.21%\n",
            "Epoch [106/400], Loss: 0.0262, Train Accuracy: 99.18%, Validation Accuracy: 97.13%\n",
            "Epoch [107/400], Loss: 0.0293, Train Accuracy: 99.18%, Validation Accuracy: 96.72%\n",
            "Epoch [108/400], Loss: 0.0277, Train Accuracy: 99.08%, Validation Accuracy: 96.31%\n",
            "Epoch [109/400], Loss: 0.0064, Train Accuracy: 99.69%, Validation Accuracy: 97.13%\n",
            "Epoch [110/400], Loss: 0.0076, Train Accuracy: 99.69%, Validation Accuracy: 96.31%\n",
            "Epoch [111/400], Loss: 0.0137, Train Accuracy: 99.80%, Validation Accuracy: 96.72%\n",
            "Epoch [112/400], Loss: 0.0819, Train Accuracy: 98.16%, Validation Accuracy: 97.54%\n",
            "Epoch [113/400], Loss: 0.0366, Train Accuracy: 99.18%, Validation Accuracy: 95.90%\n",
            "Epoch [114/400], Loss: 0.0354, Train Accuracy: 99.59%, Validation Accuracy: 97.95%\n",
            "Epoch [115/400], Loss: 0.0494, Train Accuracy: 98.57%, Validation Accuracy: 96.31%\n",
            "Epoch [116/400], Loss: 0.0320, Train Accuracy: 98.87%, Validation Accuracy: 96.72%\n",
            "Epoch [117/400], Loss: 0.0121, Train Accuracy: 99.59%, Validation Accuracy: 97.54%\n",
            "Epoch [118/400], Loss: 0.0022, Train Accuracy: 99.90%, Validation Accuracy: 96.72%\n",
            "Epoch [119/400], Loss: 0.0026, Train Accuracy: 99.90%, Validation Accuracy: 97.13%\n",
            "Epoch [120/400], Loss: 0.0081, Train Accuracy: 99.69%, Validation Accuracy: 96.72%\n",
            "Epoch [121/400], Loss: 0.0059, Train Accuracy: 99.80%, Validation Accuracy: 97.95%\n",
            "Epoch [122/400], Loss: 0.0057, Train Accuracy: 99.80%, Validation Accuracy: 97.13%\n",
            "Epoch [123/400], Loss: 0.0095, Train Accuracy: 99.80%, Validation Accuracy: 96.72%\n",
            "Epoch [124/400], Loss: 0.0041, Train Accuracy: 99.80%, Validation Accuracy: 96.72%\n",
            "Epoch [125/400], Loss: 0.0040, Train Accuracy: 99.90%, Validation Accuracy: 96.72%\n",
            "Epoch [126/400], Loss: 0.0179, Train Accuracy: 99.69%, Validation Accuracy: 95.90%\n",
            "Epoch [127/400], Loss: 0.0509, Train Accuracy: 98.77%, Validation Accuracy: 97.13%\n",
            "Epoch [128/400], Loss: 0.0159, Train Accuracy: 99.49%, Validation Accuracy: 95.49%\n",
            "Epoch [129/400], Loss: 0.0114, Train Accuracy: 99.59%, Validation Accuracy: 94.67%\n",
            "Epoch [130/400], Loss: 0.0079, Train Accuracy: 99.49%, Validation Accuracy: 97.95%\n",
            "Epoch [131/400], Loss: 0.0047, Train Accuracy: 99.90%, Validation Accuracy: 96.31%\n",
            "Epoch [132/400], Loss: 0.0086, Train Accuracy: 99.49%, Validation Accuracy: 97.13%\n",
            "Epoch [133/400], Loss: 0.0169, Train Accuracy: 99.59%, Validation Accuracy: 96.72%\n",
            "Epoch [134/400], Loss: 0.0205, Train Accuracy: 99.59%, Validation Accuracy: 96.31%\n",
            "Epoch [135/400], Loss: 0.0099, Train Accuracy: 99.39%, Validation Accuracy: 96.31%\n",
            "Epoch [136/400], Loss: 0.0084, Train Accuracy: 99.69%, Validation Accuracy: 94.26%\n",
            "Epoch [137/400], Loss: 0.0494, Train Accuracy: 98.98%, Validation Accuracy: 97.13%\n",
            "Epoch [138/400], Loss: 0.1746, Train Accuracy: 97.54%, Validation Accuracy: 95.49%\n",
            "Epoch [139/400], Loss: 0.0841, Train Accuracy: 97.34%, Validation Accuracy: 95.49%\n",
            "Epoch [140/400], Loss: 0.0238, Train Accuracy: 99.08%, Validation Accuracy: 95.49%\n",
            "Epoch [141/400], Loss: 0.0255, Train Accuracy: 99.08%, Validation Accuracy: 92.62%\n",
            "Epoch [142/400], Loss: 0.0607, Train Accuracy: 98.36%, Validation Accuracy: 97.54%\n",
            "Epoch [143/400], Loss: 0.0356, Train Accuracy: 99.28%, Validation Accuracy: 96.72%\n",
            "Epoch [144/400], Loss: 0.0271, Train Accuracy: 99.28%, Validation Accuracy: 96.31%\n",
            "Epoch [145/400], Loss: 0.0037, Train Accuracy: 100.00%, Validation Accuracy: 95.90%\n",
            "Epoch [146/400], Loss: 0.0039, Train Accuracy: 99.80%, Validation Accuracy: 97.54%\n",
            "Epoch [147/400], Loss: 0.0065, Train Accuracy: 99.69%, Validation Accuracy: 97.95%\n",
            "Epoch [148/400], Loss: 0.0078, Train Accuracy: 99.59%, Validation Accuracy: 97.54%\n",
            "Epoch [149/400], Loss: 0.0225, Train Accuracy: 99.49%, Validation Accuracy: 95.49%\n",
            "Epoch [150/400], Loss: 0.0085, Train Accuracy: 99.80%, Validation Accuracy: 96.72%\n",
            "Epoch [151/400], Loss: 0.0075, Train Accuracy: 99.90%, Validation Accuracy: 96.72%\n",
            "Epoch [152/400], Loss: 0.0091, Train Accuracy: 99.69%, Validation Accuracy: 96.31%\n",
            "Epoch [153/400], Loss: 0.0038, Train Accuracy: 99.80%, Validation Accuracy: 96.31%\n",
            "Epoch [154/400], Loss: 0.0010, Train Accuracy: 100.00%, Validation Accuracy: 96.72%\n",
            "Epoch [155/400], Loss: 0.0033, Train Accuracy: 99.90%, Validation Accuracy: 96.72%\n",
            "Epoch [156/400], Loss: 0.0036, Train Accuracy: 99.80%, Validation Accuracy: 97.54%\n",
            "Epoch [157/400], Loss: 0.0007, Train Accuracy: 100.00%, Validation Accuracy: 97.54%\n",
            "Epoch [158/400], Loss: 0.0008, Train Accuracy: 100.00%, Validation Accuracy: 97.13%\n",
            "Epoch [159/400], Loss: 0.0045, Train Accuracy: 99.90%, Validation Accuracy: 96.31%\n",
            "Epoch [160/400], Loss: 0.0026, Train Accuracy: 99.90%, Validation Accuracy: 96.31%\n",
            "Epoch [161/400], Loss: 0.0025, Train Accuracy: 99.90%, Validation Accuracy: 97.95%\n",
            "Epoch [162/400], Loss: 0.0162, Train Accuracy: 99.59%, Validation Accuracy: 95.49%\n",
            "Epoch [163/400], Loss: 0.0239, Train Accuracy: 99.59%, Validation Accuracy: 96.72%\n",
            "Epoch [164/400], Loss: 0.0125, Train Accuracy: 99.49%, Validation Accuracy: 95.49%\n",
            "Epoch [165/400], Loss: 0.0099, Train Accuracy: 99.49%, Validation Accuracy: 96.72%\n",
            "Epoch [166/400], Loss: 0.0042, Train Accuracy: 99.80%, Validation Accuracy: 95.90%\n",
            "Epoch [167/400], Loss: 0.0082, Train Accuracy: 99.90%, Validation Accuracy: 96.31%\n",
            "Epoch [168/400], Loss: 0.0016, Train Accuracy: 99.90%, Validation Accuracy: 95.90%\n",
            "Epoch [169/400], Loss: 0.0004, Train Accuracy: 100.00%, Validation Accuracy: 96.31%\n",
            "Epoch [170/400], Loss: 0.0019, Train Accuracy: 99.90%, Validation Accuracy: 96.31%\n",
            "Epoch [171/400], Loss: 0.0118, Train Accuracy: 99.59%, Validation Accuracy: 95.90%\n",
            "Epoch [172/400], Loss: 0.0007, Train Accuracy: 100.00%, Validation Accuracy: 96.31%\n",
            "Epoch [173/400], Loss: 0.0006, Train Accuracy: 100.00%, Validation Accuracy: 97.13%\n",
            "Epoch [174/400], Loss: 0.0157, Train Accuracy: 99.49%, Validation Accuracy: 97.13%\n",
            "Epoch [175/400], Loss: 0.0157, Train Accuracy: 99.28%, Validation Accuracy: 97.13%\n",
            "Epoch [176/400], Loss: 0.0158, Train Accuracy: 99.39%, Validation Accuracy: 95.90%\n",
            "Epoch [177/400], Loss: 0.0212, Train Accuracy: 99.39%, Validation Accuracy: 95.49%\n",
            "Epoch [178/400], Loss: 0.0208, Train Accuracy: 99.49%, Validation Accuracy: 96.31%\n",
            "Epoch [179/400], Loss: 0.0484, Train Accuracy: 99.39%, Validation Accuracy: 97.13%\n",
            "Epoch [180/400], Loss: 0.0313, Train Accuracy: 99.49%, Validation Accuracy: 96.72%\n",
            "Epoch [181/400], Loss: 0.0160, Train Accuracy: 99.39%, Validation Accuracy: 95.08%\n",
            "Epoch [182/400], Loss: 0.0658, Train Accuracy: 98.87%, Validation Accuracy: 95.49%\n",
            "Epoch [183/400], Loss: 0.0172, Train Accuracy: 99.59%, Validation Accuracy: 96.31%\n",
            "Epoch [184/400], Loss: 0.0251, Train Accuracy: 99.18%, Validation Accuracy: 96.31%\n",
            "Epoch [185/400], Loss: 0.0211, Train Accuracy: 99.49%, Validation Accuracy: 95.49%\n",
            "Epoch [186/400], Loss: 0.0232, Train Accuracy: 99.39%, Validation Accuracy: 96.31%\n",
            "Epoch [187/400], Loss: 0.0274, Train Accuracy: 99.39%, Validation Accuracy: 95.90%\n",
            "Epoch [188/400], Loss: 0.0133, Train Accuracy: 99.49%, Validation Accuracy: 96.72%\n",
            "Epoch [189/400], Loss: 0.0543, Train Accuracy: 98.77%, Validation Accuracy: 95.90%\n",
            "Epoch [190/400], Loss: 0.0142, Train Accuracy: 99.49%, Validation Accuracy: 96.31%\n",
            "Epoch [191/400], Loss: 0.0280, Train Accuracy: 99.28%, Validation Accuracy: 96.72%\n",
            "Epoch [192/400], Loss: 0.0266, Train Accuracy: 99.59%, Validation Accuracy: 95.90%\n",
            "Epoch [193/400], Loss: 0.0077, Train Accuracy: 99.59%, Validation Accuracy: 97.54%\n",
            "Epoch [194/400], Loss: 0.0052, Train Accuracy: 99.80%, Validation Accuracy: 96.72%\n",
            "Epoch [195/400], Loss: 0.0024, Train Accuracy: 99.80%, Validation Accuracy: 97.54%\n",
            "Epoch [196/400], Loss: 0.0019, Train Accuracy: 99.90%, Validation Accuracy: 97.54%\n",
            "Epoch [197/400], Loss: 0.0075, Train Accuracy: 99.80%, Validation Accuracy: 97.54%\n",
            "Epoch [198/400], Loss: 0.0892, Train Accuracy: 98.77%, Validation Accuracy: 96.72%\n",
            "Epoch [199/400], Loss: 0.0184, Train Accuracy: 99.08%, Validation Accuracy: 97.95%\n",
            "Epoch [200/400], Loss: 0.0113, Train Accuracy: 99.90%, Validation Accuracy: 97.13%\n",
            "Epoch [201/400], Loss: 0.0277, Train Accuracy: 99.49%, Validation Accuracy: 97.54%\n",
            "Epoch [202/400], Loss: 0.0423, Train Accuracy: 99.39%, Validation Accuracy: 98.36%\n",
            "Epoch [203/400], Loss: 0.0101, Train Accuracy: 99.69%, Validation Accuracy: 98.36%\n",
            "Epoch [204/400], Loss: 0.0067, Train Accuracy: 99.69%, Validation Accuracy: 97.95%\n",
            "Epoch [205/400], Loss: 0.0280, Train Accuracy: 99.69%, Validation Accuracy: 97.54%\n",
            "Epoch [206/400], Loss: 0.0409, Train Accuracy: 98.77%, Validation Accuracy: 96.72%\n",
            "Epoch [207/400], Loss: 0.0046, Train Accuracy: 99.80%, Validation Accuracy: 96.31%\n",
            "Epoch [208/400], Loss: 0.0026, Train Accuracy: 99.90%, Validation Accuracy: 97.13%\n",
            "Epoch [209/400], Loss: 0.0015, Train Accuracy: 99.90%, Validation Accuracy: 97.13%\n",
            "Epoch [210/400], Loss: 0.0016, Train Accuracy: 99.90%, Validation Accuracy: 97.13%\n",
            "Epoch [211/400], Loss: 0.0003, Train Accuracy: 100.00%, Validation Accuracy: 97.13%\n",
            "Epoch [212/400], Loss: 0.0031, Train Accuracy: 99.90%, Validation Accuracy: 97.95%\n",
            "Epoch [213/400], Loss: 0.0039, Train Accuracy: 99.80%, Validation Accuracy: 97.13%\n",
            "Epoch [214/400], Loss: 0.0005, Train Accuracy: 100.00%, Validation Accuracy: 97.13%\n",
            "Epoch [215/400], Loss: 0.0021, Train Accuracy: 99.90%, Validation Accuracy: 97.95%\n",
            "Epoch [216/400], Loss: 0.0021, Train Accuracy: 99.90%, Validation Accuracy: 98.36%\n",
            "Epoch [217/400], Loss: 0.0121, Train Accuracy: 99.59%, Validation Accuracy: 95.90%\n",
            "Epoch [218/400], Loss: 0.0343, Train Accuracy: 99.59%, Validation Accuracy: 97.54%\n",
            "Epoch [219/400], Loss: 0.0053, Train Accuracy: 99.90%, Validation Accuracy: 96.72%\n",
            "Epoch [220/400], Loss: 0.0200, Train Accuracy: 99.69%, Validation Accuracy: 97.54%\n",
            "Epoch [221/400], Loss: 0.0005, Train Accuracy: 100.00%, Validation Accuracy: 96.31%\n",
            "Epoch [222/400], Loss: 0.0002, Train Accuracy: 100.00%, Validation Accuracy: 96.31%\n",
            "Epoch [223/400], Loss: 0.0037, Train Accuracy: 99.90%, Validation Accuracy: 95.49%\n",
            "Epoch [224/400], Loss: 0.0039, Train Accuracy: 99.80%, Validation Accuracy: 97.54%\n",
            "Epoch [225/400], Loss: 0.0002, Train Accuracy: 100.00%, Validation Accuracy: 97.95%\n",
            "Epoch [226/400], Loss: 0.0014, Train Accuracy: 99.90%, Validation Accuracy: 97.95%\n",
            "Epoch [227/400], Loss: 0.0001, Train Accuracy: 100.00%, Validation Accuracy: 97.95%\n",
            "Epoch [228/400], Loss: 0.0007, Train Accuracy: 100.00%, Validation Accuracy: 97.95%\n",
            "Epoch [229/400], Loss: 0.0003, Train Accuracy: 100.00%, Validation Accuracy: 97.95%\n",
            "Epoch [230/400], Loss: 0.0015, Train Accuracy: 99.90%, Validation Accuracy: 97.54%\n",
            "Epoch [231/400], Loss: 0.0000, Train Accuracy: 100.00%, Validation Accuracy: 97.54%\n",
            "Epoch [232/400], Loss: 0.0071, Train Accuracy: 99.90%, Validation Accuracy: 97.13%\n",
            "Epoch [233/400], Loss: 0.0008, Train Accuracy: 100.00%, Validation Accuracy: 97.54%\n",
            "Epoch [234/400], Loss: 0.0020, Train Accuracy: 99.90%, Validation Accuracy: 96.72%\n",
            "Epoch [235/400], Loss: 0.0017, Train Accuracy: 99.90%, Validation Accuracy: 98.36%\n",
            "Epoch [236/400], Loss: 0.0002, Train Accuracy: 100.00%, Validation Accuracy: 98.77%\n",
            "Epoch [237/400], Loss: 0.0001, Train Accuracy: 100.00%, Validation Accuracy: 98.77%\n",
            "Epoch [238/400], Loss: 0.0001, Train Accuracy: 100.00%, Validation Accuracy: 98.77%\n",
            "Epoch [239/400], Loss: 0.0000, Train Accuracy: 100.00%, Validation Accuracy: 98.77%\n",
            "Epoch [240/400], Loss: 0.0002, Train Accuracy: 100.00%, Validation Accuracy: 98.77%\n",
            "Epoch [241/400], Loss: 0.0000, Train Accuracy: 100.00%, Validation Accuracy: 98.77%\n",
            "Epoch [242/400], Loss: 0.0004, Train Accuracy: 100.00%, Validation Accuracy: 98.77%\n",
            "Epoch [243/400], Loss: 0.0000, Train Accuracy: 100.00%, Validation Accuracy: 98.77%\n",
            "Epoch [244/400], Loss: 0.0001, Train Accuracy: 100.00%, Validation Accuracy: 98.77%\n",
            "Epoch [245/400], Loss: 0.0000, Train Accuracy: 100.00%, Validation Accuracy: 98.77%\n",
            "Epoch [246/400], Loss: 0.0000, Train Accuracy: 100.00%, Validation Accuracy: 98.77%\n",
            "Epoch [247/400], Loss: 0.0003, Train Accuracy: 100.00%, Validation Accuracy: 98.77%\n",
            "Epoch [248/400], Loss: 0.0000, Train Accuracy: 100.00%, Validation Accuracy: 98.36%\n",
            "Epoch [249/400], Loss: 0.0001, Train Accuracy: 100.00%, Validation Accuracy: 98.36%\n",
            "Epoch [250/400], Loss: 0.0001, Train Accuracy: 100.00%, Validation Accuracy: 98.36%\n",
            "Epoch [251/400], Loss: 0.0000, Train Accuracy: 100.00%, Validation Accuracy: 97.95%\n",
            "Epoch [252/400], Loss: 0.0001, Train Accuracy: 100.00%, Validation Accuracy: 97.95%\n",
            "Epoch [253/400], Loss: 0.0000, Train Accuracy: 100.00%, Validation Accuracy: 97.95%\n",
            "Epoch [254/400], Loss: 0.0000, Train Accuracy: 100.00%, Validation Accuracy: 97.95%\n",
            "Epoch [255/400], Loss: 0.0000, Train Accuracy: 100.00%, Validation Accuracy: 97.95%\n",
            "Epoch [256/400], Loss: 0.0001, Train Accuracy: 100.00%, Validation Accuracy: 97.95%\n",
            "Epoch [257/400], Loss: 0.0001, Train Accuracy: 100.00%, Validation Accuracy: 97.54%\n",
            "Epoch [258/400], Loss: 0.0000, Train Accuracy: 100.00%, Validation Accuracy: 98.36%\n",
            "Epoch [259/400], Loss: 0.0005, Train Accuracy: 100.00%, Validation Accuracy: 97.54%\n",
            "Epoch [260/400], Loss: 0.0000, Train Accuracy: 100.00%, Validation Accuracy: 97.13%\n",
            "Epoch [261/400], Loss: 0.0000, Train Accuracy: 100.00%, Validation Accuracy: 97.13%\n",
            "Epoch [262/400], Loss: 0.0000, Train Accuracy: 100.00%, Validation Accuracy: 97.13%\n",
            "Epoch [263/400], Loss: 0.0001, Train Accuracy: 100.00%, Validation Accuracy: 97.13%\n",
            "Epoch [264/400], Loss: 0.0000, Train Accuracy: 100.00%, Validation Accuracy: 97.13%\n",
            "Epoch [265/400], Loss: 0.0000, Train Accuracy: 100.00%, Validation Accuracy: 97.13%\n",
            "Epoch [266/400], Loss: 0.0000, Train Accuracy: 100.00%, Validation Accuracy: 97.13%\n",
            "Epoch [267/400], Loss: 0.0000, Train Accuracy: 100.00%, Validation Accuracy: 97.13%\n",
            "Epoch [268/400], Loss: 0.0000, Train Accuracy: 100.00%, Validation Accuracy: 97.54%\n",
            "Epoch [269/400], Loss: 0.0000, Train Accuracy: 100.00%, Validation Accuracy: 97.54%\n",
            "Epoch [270/400], Loss: 0.0000, Train Accuracy: 100.00%, Validation Accuracy: 97.54%\n",
            "Epoch [271/400], Loss: 0.0000, Train Accuracy: 100.00%, Validation Accuracy: 97.54%\n",
            "Epoch [272/400], Loss: 0.0000, Train Accuracy: 100.00%, Validation Accuracy: 97.54%\n",
            "Epoch [273/400], Loss: 0.0000, Train Accuracy: 100.00%, Validation Accuracy: 97.54%\n",
            "Epoch [274/400], Loss: 0.0000, Train Accuracy: 100.00%, Validation Accuracy: 97.54%\n",
            "Epoch [275/400], Loss: 0.0000, Train Accuracy: 100.00%, Validation Accuracy: 97.54%\n",
            "Epoch [276/400], Loss: 0.0000, Train Accuracy: 100.00%, Validation Accuracy: 97.13%\n",
            "Epoch [277/400], Loss: 0.0000, Train Accuracy: 100.00%, Validation Accuracy: 97.13%\n",
            "Epoch [278/400], Loss: 0.0000, Train Accuracy: 100.00%, Validation Accuracy: 97.13%\n",
            "Epoch [279/400], Loss: 0.0000, Train Accuracy: 100.00%, Validation Accuracy: 97.13%\n",
            "Epoch [280/400], Loss: 0.0000, Train Accuracy: 100.00%, Validation Accuracy: 97.13%\n",
            "Epoch [281/400], Loss: 0.0000, Train Accuracy: 100.00%, Validation Accuracy: 97.13%\n",
            "Epoch [282/400], Loss: 0.0000, Train Accuracy: 100.00%, Validation Accuracy: 97.13%\n",
            "Epoch [283/400], Loss: 0.0000, Train Accuracy: 100.00%, Validation Accuracy: 97.13%\n",
            "Epoch [284/400], Loss: 0.0000, Train Accuracy: 100.00%, Validation Accuracy: 97.13%\n",
            "Epoch [285/400], Loss: 0.0000, Train Accuracy: 100.00%, Validation Accuracy: 97.13%\n",
            "Epoch [286/400], Loss: 0.0000, Train Accuracy: 100.00%, Validation Accuracy: 97.13%\n",
            "Epoch [287/400], Loss: 0.0000, Train Accuracy: 100.00%, Validation Accuracy: 97.13%\n",
            "Epoch [288/400], Loss: 0.0000, Train Accuracy: 100.00%, Validation Accuracy: 97.54%\n",
            "Epoch [289/400], Loss: 0.0000, Train Accuracy: 100.00%, Validation Accuracy: 97.54%\n",
            "Epoch [290/400], Loss: 0.0000, Train Accuracy: 100.00%, Validation Accuracy: 97.54%\n",
            "Epoch [291/400], Loss: 0.0000, Train Accuracy: 100.00%, Validation Accuracy: 97.54%\n",
            "Epoch [292/400], Loss: 0.0000, Train Accuracy: 100.00%, Validation Accuracy: 97.13%\n",
            "Epoch [293/400], Loss: 0.0000, Train Accuracy: 100.00%, Validation Accuracy: 97.13%\n",
            "Epoch [294/400], Loss: 0.0000, Train Accuracy: 100.00%, Validation Accuracy: 97.13%\n",
            "Epoch [295/400], Loss: 0.0000, Train Accuracy: 100.00%, Validation Accuracy: 97.13%\n",
            "Epoch [296/400], Loss: 0.0000, Train Accuracy: 100.00%, Validation Accuracy: 97.13%\n",
            "Epoch [297/400], Loss: 0.0000, Train Accuracy: 100.00%, Validation Accuracy: 97.54%\n",
            "Epoch [298/400], Loss: 0.0000, Train Accuracy: 100.00%, Validation Accuracy: 97.13%\n",
            "Epoch [299/400], Loss: 0.0000, Train Accuracy: 100.00%, Validation Accuracy: 97.13%\n",
            "Epoch [300/400], Loss: 0.0000, Train Accuracy: 100.00%, Validation Accuracy: 97.13%\n",
            "Epoch [301/400], Loss: 0.0000, Train Accuracy: 100.00%, Validation Accuracy: 97.13%\n",
            "Epoch [302/400], Loss: 0.0000, Train Accuracy: 100.00%, Validation Accuracy: 97.54%\n",
            "Epoch [303/400], Loss: 0.0000, Train Accuracy: 100.00%, Validation Accuracy: 97.54%\n",
            "Epoch [304/400], Loss: 0.0000, Train Accuracy: 100.00%, Validation Accuracy: 97.54%\n",
            "Epoch [305/400], Loss: 0.0000, Train Accuracy: 100.00%, Validation Accuracy: 97.54%\n",
            "Epoch [306/400], Loss: 0.0000, Train Accuracy: 100.00%, Validation Accuracy: 97.54%\n",
            "Epoch [307/400], Loss: 0.0000, Train Accuracy: 100.00%, Validation Accuracy: 97.54%\n",
            "Epoch [308/400], Loss: 0.0000, Train Accuracy: 100.00%, Validation Accuracy: 97.54%\n",
            "Epoch [309/400], Loss: 0.0000, Train Accuracy: 100.00%, Validation Accuracy: 97.54%\n",
            "Epoch [310/400], Loss: 0.0000, Train Accuracy: 100.00%, Validation Accuracy: 97.54%\n",
            "Epoch [311/400], Loss: 0.0000, Train Accuracy: 100.00%, Validation Accuracy: 97.54%\n",
            "Epoch [312/400], Loss: 0.0000, Train Accuracy: 100.00%, Validation Accuracy: 97.54%\n",
            "Epoch [313/400], Loss: 0.0000, Train Accuracy: 100.00%, Validation Accuracy: 97.54%\n",
            "Epoch [314/400], Loss: 0.0000, Train Accuracy: 100.00%, Validation Accuracy: 97.54%\n",
            "Epoch [315/400], Loss: 0.0000, Train Accuracy: 100.00%, Validation Accuracy: 97.54%\n",
            "Epoch [316/400], Loss: 0.0000, Train Accuracy: 100.00%, Validation Accuracy: 97.54%\n",
            "Epoch [317/400], Loss: 0.0000, Train Accuracy: 100.00%, Validation Accuracy: 97.54%\n",
            "Epoch [318/400], Loss: 0.0000, Train Accuracy: 100.00%, Validation Accuracy: 97.54%\n",
            "Epoch [319/400], Loss: 0.0000, Train Accuracy: 100.00%, Validation Accuracy: 97.54%\n",
            "Epoch [320/400], Loss: 0.0000, Train Accuracy: 100.00%, Validation Accuracy: 97.54%\n",
            "Epoch [321/400], Loss: 0.0001, Train Accuracy: 100.00%, Validation Accuracy: 97.95%\n",
            "Epoch [322/400], Loss: 0.0002, Train Accuracy: 100.00%, Validation Accuracy: 97.54%\n",
            "Epoch [323/400], Loss: 0.0000, Train Accuracy: 100.00%, Validation Accuracy: 97.54%\n",
            "Epoch [324/400], Loss: 0.0001, Train Accuracy: 100.00%, Validation Accuracy: 97.54%\n",
            "Epoch [325/400], Loss: 0.0000, Train Accuracy: 100.00%, Validation Accuracy: 97.54%\n",
            "Epoch [326/400], Loss: 0.0000, Train Accuracy: 100.00%, Validation Accuracy: 97.54%\n",
            "Epoch [327/400], Loss: 0.0000, Train Accuracy: 100.00%, Validation Accuracy: 97.54%\n",
            "Epoch [328/400], Loss: 0.0000, Train Accuracy: 100.00%, Validation Accuracy: 97.54%\n",
            "Epoch [329/400], Loss: 0.0000, Train Accuracy: 100.00%, Validation Accuracy: 97.54%\n",
            "Epoch [330/400], Loss: 0.0000, Train Accuracy: 100.00%, Validation Accuracy: 97.54%\n",
            "Epoch [331/400], Loss: 0.0000, Train Accuracy: 100.00%, Validation Accuracy: 97.54%\n",
            "Epoch [332/400], Loss: 0.0000, Train Accuracy: 100.00%, Validation Accuracy: 97.54%\n",
            "Epoch [333/400], Loss: 0.0000, Train Accuracy: 100.00%, Validation Accuracy: 97.54%\n",
            "Epoch [334/400], Loss: 0.0000, Train Accuracy: 100.00%, Validation Accuracy: 97.54%\n",
            "Epoch [335/400], Loss: 0.0000, Train Accuracy: 100.00%, Validation Accuracy: 97.54%\n",
            "Epoch [336/400], Loss: 0.0000, Train Accuracy: 100.00%, Validation Accuracy: 97.54%\n",
            "Epoch [337/400], Loss: 0.0000, Train Accuracy: 100.00%, Validation Accuracy: 97.54%\n",
            "Epoch [338/400], Loss: 0.0000, Train Accuracy: 100.00%, Validation Accuracy: 97.54%\n",
            "Epoch [339/400], Loss: 0.0000, Train Accuracy: 100.00%, Validation Accuracy: 97.54%\n",
            "Epoch [340/400], Loss: 0.0001, Train Accuracy: 100.00%, Validation Accuracy: 98.36%\n",
            "Epoch [341/400], Loss: 0.0000, Train Accuracy: 100.00%, Validation Accuracy: 98.36%\n",
            "Epoch [342/400], Loss: 0.0004, Train Accuracy: 100.00%, Validation Accuracy: 98.36%\n",
            "Epoch [343/400], Loss: 0.0034, Train Accuracy: 99.80%, Validation Accuracy: 97.95%\n",
            "Epoch [344/400], Loss: 0.0021, Train Accuracy: 99.90%, Validation Accuracy: 95.90%\n",
            "Epoch [345/400], Loss: 0.0003, Train Accuracy: 100.00%, Validation Accuracy: 96.31%\n",
            "Epoch [346/400], Loss: 0.0346, Train Accuracy: 99.18%, Validation Accuracy: 94.67%\n",
            "Epoch [347/400], Loss: 0.0975, Train Accuracy: 98.36%, Validation Accuracy: 94.26%\n",
            "Epoch [348/400], Loss: 0.0607, Train Accuracy: 98.16%, Validation Accuracy: 94.67%\n",
            "Epoch [349/400], Loss: 0.0439, Train Accuracy: 99.28%, Validation Accuracy: 93.44%\n",
            "Epoch [350/400], Loss: 0.0861, Train Accuracy: 98.05%, Validation Accuracy: 95.90%\n",
            "Epoch [351/400], Loss: 0.0329, Train Accuracy: 98.98%, Validation Accuracy: 97.54%\n",
            "Epoch [352/400], Loss: 0.0205, Train Accuracy: 99.39%, Validation Accuracy: 97.54%\n",
            "Epoch [353/400], Loss: 0.0388, Train Accuracy: 98.98%, Validation Accuracy: 96.72%\n",
            "Epoch [354/400], Loss: 0.0475, Train Accuracy: 99.28%, Validation Accuracy: 96.72%\n",
            "Epoch [355/400], Loss: 0.0177, Train Accuracy: 99.39%, Validation Accuracy: 95.49%\n",
            "Epoch [356/400], Loss: 0.0335, Train Accuracy: 98.98%, Validation Accuracy: 96.72%\n",
            "Epoch [357/400], Loss: 0.0098, Train Accuracy: 99.69%, Validation Accuracy: 96.72%\n",
            "Epoch [358/400], Loss: 0.0037, Train Accuracy: 99.80%, Validation Accuracy: 96.31%\n",
            "Epoch [359/400], Loss: 0.0037, Train Accuracy: 99.90%, Validation Accuracy: 96.31%\n",
            "Epoch [360/400], Loss: 0.0072, Train Accuracy: 99.80%, Validation Accuracy: 96.31%\n",
            "Epoch [361/400], Loss: 0.0483, Train Accuracy: 98.46%, Validation Accuracy: 97.54%\n",
            "Epoch [362/400], Loss: 0.0171, Train Accuracy: 99.49%, Validation Accuracy: 97.13%\n",
            "Epoch [363/400], Loss: 0.0310, Train Accuracy: 99.59%, Validation Accuracy: 97.95%\n",
            "Epoch [364/400], Loss: 0.0294, Train Accuracy: 99.59%, Validation Accuracy: 95.90%\n",
            "Epoch [365/400], Loss: 0.0221, Train Accuracy: 99.39%, Validation Accuracy: 95.90%\n",
            "Epoch [366/400], Loss: 0.0340, Train Accuracy: 98.98%, Validation Accuracy: 98.36%\n",
            "Epoch [367/400], Loss: 0.0286, Train Accuracy: 99.59%, Validation Accuracy: 97.95%\n",
            "Epoch [368/400], Loss: 0.0019, Train Accuracy: 99.90%, Validation Accuracy: 96.72%\n",
            "Epoch [369/400], Loss: 0.0014, Train Accuracy: 100.00%, Validation Accuracy: 96.72%\n",
            "Epoch [370/400], Loss: 0.0005, Train Accuracy: 100.00%, Validation Accuracy: 96.72%\n",
            "Epoch [371/400], Loss: 0.0085, Train Accuracy: 99.90%, Validation Accuracy: 97.13%\n",
            "Epoch [372/400], Loss: 0.0096, Train Accuracy: 99.69%, Validation Accuracy: 97.13%\n",
            "Epoch [373/400], Loss: 0.0062, Train Accuracy: 99.69%, Validation Accuracy: 96.72%\n",
            "Epoch [374/400], Loss: 0.0093, Train Accuracy: 99.80%, Validation Accuracy: 96.72%\n",
            "Epoch [375/400], Loss: 0.0029, Train Accuracy: 99.80%, Validation Accuracy: 96.72%\n",
            "Epoch [376/400], Loss: 0.0480, Train Accuracy: 99.28%, Validation Accuracy: 94.26%\n",
            "Epoch [377/400], Loss: 0.0320, Train Accuracy: 98.77%, Validation Accuracy: 96.72%\n",
            "Epoch [378/400], Loss: 0.0023, Train Accuracy: 99.90%, Validation Accuracy: 96.31%\n",
            "Epoch [379/400], Loss: 0.0143, Train Accuracy: 99.59%, Validation Accuracy: 96.31%\n",
            "Epoch [380/400], Loss: 0.0228, Train Accuracy: 99.80%, Validation Accuracy: 95.90%\n",
            "Epoch [381/400], Loss: 0.0009, Train Accuracy: 100.00%, Validation Accuracy: 95.90%\n",
            "Epoch [382/400], Loss: 0.0068, Train Accuracy: 99.80%, Validation Accuracy: 95.49%\n",
            "Epoch [383/400], Loss: 0.0085, Train Accuracy: 99.69%, Validation Accuracy: 97.13%\n",
            "Epoch [384/400], Loss: 0.0170, Train Accuracy: 99.80%, Validation Accuracy: 97.54%\n",
            "Epoch [385/400], Loss: 0.0360, Train Accuracy: 99.08%, Validation Accuracy: 95.90%\n",
            "Epoch [386/400], Loss: 0.0523, Train Accuracy: 98.77%, Validation Accuracy: 95.90%\n",
            "Epoch [387/400], Loss: 0.0887, Train Accuracy: 98.16%, Validation Accuracy: 95.49%\n",
            "Epoch [388/400], Loss: 0.0673, Train Accuracy: 99.28%, Validation Accuracy: 96.72%\n",
            "Epoch [389/400], Loss: 0.0171, Train Accuracy: 99.69%, Validation Accuracy: 98.36%\n",
            "Epoch [390/400], Loss: 0.0048, Train Accuracy: 99.90%, Validation Accuracy: 98.36%\n",
            "Epoch [391/400], Loss: 0.0499, Train Accuracy: 99.49%, Validation Accuracy: 97.13%\n",
            "Epoch [392/400], Loss: 0.0518, Train Accuracy: 98.77%, Validation Accuracy: 97.54%\n",
            "Epoch [393/400], Loss: 0.0478, Train Accuracy: 98.46%, Validation Accuracy: 97.54%\n",
            "Epoch [394/400], Loss: 0.0112, Train Accuracy: 99.59%, Validation Accuracy: 97.54%\n",
            "Epoch [395/400], Loss: 0.0089, Train Accuracy: 99.80%, Validation Accuracy: 97.54%\n",
            "Epoch [396/400], Loss: 0.0050, Train Accuracy: 99.59%, Validation Accuracy: 97.54%\n",
            "Epoch [397/400], Loss: 0.0140, Train Accuracy: 99.59%, Validation Accuracy: 98.77%\n",
            "Epoch [398/400], Loss: 0.0161, Train Accuracy: 99.69%, Validation Accuracy: 98.36%\n",
            "Epoch [399/400], Loss: 0.0028, Train Accuracy: 99.90%, Validation Accuracy: 97.54%\n",
            "Epoch [400/400], Loss: 0.0060, Train Accuracy: 99.80%, Validation Accuracy: 97.54%\n"
          ]
        }
      ]
    },
    {
      "cell_type": "code",
      "source": [
        "# Save the trained model\n",
        "torch.save(model.state_dict(), '/content/drive/MyDrive/D.L/trained_model2.pth')"
      ],
      "metadata": {
        "id": "Fd5bDU0948XB"
      },
      "execution_count": null,
      "outputs": []
    },
    {
      "cell_type": "code",
      "source": [
        "#Plot Accuracy during train\n",
        "plt.plot(train_accs, label='Train Accuracy')\n",
        "plt.plot(val_accs, label='Validation Accuracy')\n",
        "plt.xlabel('Epoch')\n",
        "plt.ylabel('Accuracy')\n",
        "plt.legend()\n",
        "plt.show()\n",
        "\n",
        "#Plot Loss during train\n",
        "plt.plot(train_losses, label='Train Loss')\n",
        "plt.plot(val_losses, label='Validation Loss')\n",
        "plt.xlabel('Epoch')\n",
        "plt.ylabel('Loss')\n",
        "plt.legend()\n",
        "plt.show()"
      ],
      "metadata": {
        "colab": {
          "base_uri": "https://localhost:8080/",
          "height": 881
        },
        "id": "D1rKV_Lc-Sez",
        "outputId": "19bbe7b1-639e-453c-b512-4bd9f7888a5c"
      },
      "execution_count": null,
      "outputs": [
        {
          "output_type": "display_data",
          "data": {
            "text/plain": [
              "<Figure size 640x480 with 1 Axes>"
            ],
            "image/png": "[encoded data removed]"
          },
          "metadata": {}
        },
        {
          "output_type": "display_data",
          "data": {
            "text/plain": [
              "<Figure size 640x480 with 1 Axes>"
            ],
            "image/png": "[encoded data removed]"
          },
          "metadata": {}
        }
      ]
    },
    {
      "cell_type": "markdown",
      "source": [
        "#Evaluation"
      ],
      "metadata": {
        "id": "qkckcanDvBve"
      }
    },
    {
      "cell_type": "code",
      "source": [
        "# Evaluation of the model with test data\n",
        "correct = 0\n",
        "total = 0\n",
        "\n",
        "with torch.no_grad():\n",
        "    for images, labels in test_loader:\n",
        "        images = images.to(device)\n",
        "        labels = labels.to(device)\n",
        "\n",
        "        outputs = model(images)\n",
        "\n",
        "        _, predicted = torch.max(outputs.data, 1)\n",
        "\n",
        "        total += labels.size(0)\n",
        "        correct += (predicted == labels).sum().item()\n",
        "\n",
        "accuracy = (correct / total)*100\n",
        "print('Accuracy For Test Dataset ', accuracy)"
      ],
      "metadata": {
        "colab": {
          "base_uri": "https://localhost:8080/"
        },
        "id": "DW-4VheUvGiz",
        "outputId": "f400ac59-9a4f-499e-b1c8-2d467d4a39f3"
      },
      "execution_count": null,
      "outputs": [
        {
          "output_type": "stream",
          "name": "stdout",
          "text": [
            "Accuracy For Test Dataset  96.78999999999999\n"
          ]
        }
      ]
    }
  ]
}