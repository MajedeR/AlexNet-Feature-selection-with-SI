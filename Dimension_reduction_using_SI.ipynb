{
  "nbformat": 4,
  "nbformat_minor": 0,
  "metadata": {
    "colab": {
      "provenance": [],
      "collapsed_sections": [
        "sM2qzR6iaDoP",
        "HjKgd2FVqGbs",
        "bF0NsS3goNsB",
        "5G4DsbfBLssW",
        "36tiotr5adGE",
        "yIGV9wApfa8t",
        "n8TjxVMqf4zl",
        "WtKU3NabqKLs",
        "X5GscFbx8SBj",
        "CWVU7XZU9B8P",
        "qkckcanDvBve",
        "0ZVLRtworpRh",
        "OKRdy9HXruUC"
      ]
    },
    "kernelspec": {
      "name": "python3",
      "display_name": "Python 3"
    },
    "language_info": {
      "name": "python"
    }
  },
  "cells": [
    {
      "cell_type": "markdown",
      "source": [
        "# Importing"
      ],
      "metadata": {
        "id": "sM2qzR6iaDoP"
      }
    },
    {
      "cell_type": "code",
      "source": [
        "# from google.colab import drive\n",
        "# drive.mount('/content/drive')"
      ],
      "metadata": {
        "colab": {
          "base_uri": "https://localhost:8080/"
        },
        "id": "CcyzQFeaaHP1",
        "outputId": "cdd24a76-9345-4053-dbe9-5b63218e4d05"
      },
      "execution_count": null,
      "outputs": [
        {
          "output_type": "stream",
          "name": "stdout",
          "text": [
            "Drive already mounted at /content/drive; to attempt to forcibly remount, call drive.mount(\"/content/drive\", force_remount=True).\n"
          ]
        }
      ]
    },
    {
      "cell_type": "code",
      "source": [
        "import torch.nn as nn\n",
        "import torch\n",
        "import torchvision\n",
        "from torchvision import transforms\n",
        "from torch.utils.data import ConcatDataset, random_split, TensorDataset, DataLoader\n",
        "import matplotlib.pyplot as plt\n",
        "import numpy as np\n",
        "from tqdm import tqdm"
      ],
      "metadata": {
        "id": "3bDyKX-BaJYV"
      },
      "execution_count": null,
      "outputs": []
    },
    {
      "cell_type": "markdown",
      "source": [
        "#Part 1"
      ],
      "metadata": {
        "id": "HjKgd2FVqGbs"
      }
    },
    {
      "cell_type": "markdown",
      "source": [
        "## Kalhor_SeparationIndex"
      ],
      "metadata": {
        "id": "bF0NsS3goNsB"
      }
    },
    {
      "cell_type": "code",
      "source": [
        "device = torch.device(\"cuda:0\" if torch.cuda.is_available() else \"cpu\")"
      ],
      "metadata": {
        "id": "bK92mHtVoOlw"
      },
      "execution_count": null,
      "outputs": []
    },
    {
      "cell_type": "code",
      "source": [
        "class Kalhor_SeparationIndex:\n",
        "    def __init__(self, data, label, normalize=False):\n",
        "        device = torch.device(\"cuda:0\" if torch.cuda.is_available() else \"cpu\")\n",
        "        if not normalize:\n",
        "            self.data = data.to(device)\n",
        "        else:\n",
        "            small_number = 1e-10\n",
        "            mean_data = data.mean(0)\n",
        "            std_data = data.std(0) + small_number\n",
        "            data = (data - mean_data.reshape([1, -1]).repeat(data.shape[0], 1)) / std_data.reshape([1, -1]).repeat \\\n",
        "                (data.shape[0], 1)\n",
        "            self.data = data\n",
        "            print('data becomes normalized')\n",
        "        self.device1 = device\n",
        "        self.label_min = round(torch.min(label).detach().item())\n",
        "        self.label = (label - self.label_min).to(device)\n",
        "        # \"dis_matrix\" denotes an \"Euclidean\" distance matrix where \"kth\" row denotes the distance of \"kth\" input data point with all n_data data points.\n",
        "        self.big_number = 1e10\n",
        "        self.data = self.data.float().to(device)\n",
        "        self.dis_matrix = torch.cdist(self.data, self.data, p=2).fill_diagonal_(self.big_number).to(device)\n",
        "        self.n_class = round(torch.max(self.label).detach().item()) + 1\n",
        "        self.n_data = self.data.shape[0]\n",
        "        self.n_feature = self.data.shape[1]\n",
        "\n",
        "\n",
        "\n",
        "    def forward_feature_ranking_si(self):\n",
        "        ranked_features = torch.zeros(1, 0)\n",
        "        temp = torch.zeros(1, 1)\n",
        "        rest_features = torch.arange(self.n_feature)\n",
        "        si_ranked_features = torch.zeros(self.n_feature, 1, device=self.device1)\n",
        "\n",
        "        data_3d = self.data.reshape([-1, 1, self.n_feature]).repeat([1, self.n_data, 1]).to(self.device1)\n",
        "        tr_data_3d = data_3d.transpose(0, 1)\n",
        "        distanc_3d = data_3d ** 2\n",
        "        tr_distanc_3d = distanc_3d.transpose(0, 1)\n",
        "        eye_3d = torch.eye(self.n_data, device=self.device1).reshape([self.n_data, self.n_data, 1]).repeat(\n",
        "            [1, 1, self.n_feature])\n",
        "        dis_matrix_features = eye_3d * self.big_number + distanc_3d + tr_distanc_3d - 2 * (data_3d * tr_data_3d)\n",
        "        for k_forward in tqdm(range(self.n_feature)):\n",
        "            si_max = 0\n",
        "            for k_search in range(len(rest_features)):\n",
        "                ranked_features_search = np.append(ranked_features, rest_features[k_search])\n",
        "\n",
        "                dis_features_search = torch.sum(dis_matrix_features[:, :, ranked_features_search], 2)\n",
        "                values, indices = torch.min(dis_features_search, 1)\n",
        "                si = torch.sum(self.label[indices, :] == self.label).detach() / self.n_data\n",
        "                if si > si_max:\n",
        "                    si_max = si\n",
        "                    chosen_feature = rest_features[k_search]\n",
        "                    k_search_chosen = k_search\n",
        "            temp[:, 0] = chosen_feature.detach()\n",
        "            ranked_features = torch.cat((ranked_features, temp), 1)\n",
        "            rest_features = torch.cat([rest_features[:k_search_chosen], rest_features[k_search_chosen + 1:]])\n",
        "            si_ranked_features[k_forward, 0] = si_max\n",
        "        return si_ranked_features, ranked_features"
      ],
      "metadata": {
        "id": "OZEnfCLsoVSz"
      },
      "execution_count": null,
      "outputs": []
    },
    {
      "cell_type": "markdown",
      "source": [
        "## Model"
      ],
      "metadata": {
        "id": "5G4DsbfBLssW"
      }
    },
    {
      "cell_type": "code",
      "execution_count": null,
      "metadata": {
        "id": "9QWHkB4Zy1QC"
      },
      "outputs": [],
      "source": [
        "# Define the AlexNet model\n",
        "class AlexNet(nn.Module):\n",
        "    def __init__(self, num=10):\n",
        "        super(AlexNet, self).__init__()\n",
        "        self.feature = nn.Sequential(\n",
        "            nn.Conv2d(1, 32, kernel_size=5, stride=1, padding=1),\n",
        "            nn.ReLU(inplace=True),\n",
        "            nn.MaxPool2d( kernel_size=2, stride=1),\n",
        "            nn.Conv2d(32, 64, kernel_size=3, padding=1),\n",
        "            nn.ReLU(inplace=True),\n",
        "            nn.MaxPool2d( kernel_size=2, stride=2),\n",
        "            nn.Conv2d(64, 96, kernel_size=3, padding=1),\n",
        "            nn.ReLU(inplace=True),\n",
        "            nn.MaxPool2d( kernel_size=2, stride=1),\n",
        "            nn.Conv2d(96, 64, kernel_size=3, padding=1),\n",
        "            nn.ReLU(inplace=True),\n",
        "            nn.MaxPool2d( kernel_size=2, stride=1),\n",
        "            nn.Conv2d(64, 32, kernel_size=3, padding=1),\n",
        "            nn.ReLU(inplace=True),\n",
        "            nn.MaxPool2d( kernel_size=2, stride=1),\n",
        "        )\n",
        "        self.classifier = nn.Sequential(\n",
        "            nn.Dropout(),\n",
        "            nn.Linear(32*9*9,2048),\n",
        "            nn.ReLU(inplace=True),\n",
        "            nn.Dropout(),\n",
        "            nn.Linear(2048,1024),\n",
        "            nn.ReLU(inplace=True),\n",
        "            nn.Linear(1024,num),\n",
        "\n",
        "        )\n",
        "\n",
        "    def forward(self, x):\n",
        "\n",
        "        x = self.feature(x)\n",
        "        # print(x.shape)\n",
        "        x = x.view(-1,32*9*9)\n",
        "        x = self.classifier(x)\n",
        "        return x"
      ]
    },
    {
      "cell_type": "code",
      "source": [
        "# Load trained model checkpoint\n",
        "model_checkpoint = torch.load(\"/content/drive/MyDrive/D.L/HW1/Q2/trained_model2.pth\")"
      ],
      "metadata": {
        "id": "ezyRX_6faYG3"
      },
      "execution_count": null,
      "outputs": []
    },
    {
      "cell_type": "code",
      "source": [
        "# Create the model\n",
        "model = AlexNet()\n",
        "model.load_state_dict(model_checkpoint)\n",
        "model.eval()  # Set the model to evaluation mode"
      ],
      "metadata": {
        "id": "y3DFWsOgaaax",
        "colab": {
          "base_uri": "https://localhost:8080/"
        },
        "outputId": "cd31b9c0-f25d-4ad2-e3ef-65a6c4cfda87"
      },
      "execution_count": null,
      "outputs": [
        {
          "output_type": "execute_result",
          "data": {
            "text/plain": [
              "AlexNet(\n",
              "  (feature): Sequential(\n",
              "    (0): Conv2d(1, 32, kernel_size=(5, 5), stride=(1, 1), padding=(1, 1))\n",
              "    (1): ReLU(inplace=True)\n",
              "    (2): MaxPool2d(kernel_size=2, stride=1, padding=0, dilation=1, ceil_mode=False)\n",
              "    (3): Conv2d(32, 64, kernel_size=(3, 3), stride=(1, 1), padding=(1, 1))\n",
              "    (4): ReLU(inplace=True)\n",
              "    (5): MaxPool2d(kernel_size=2, stride=2, padding=0, dilation=1, ceil_mode=False)\n",
              "    (6): Conv2d(64, 96, kernel_size=(3, 3), stride=(1, 1), padding=(1, 1))\n",
              "    (7): ReLU(inplace=True)\n",
              "    (8): MaxPool2d(kernel_size=2, stride=1, padding=0, dilation=1, ceil_mode=False)\n",
              "    (9): Conv2d(96, 64, kernel_size=(3, 3), stride=(1, 1), padding=(1, 1))\n",
              "    (10): ReLU(inplace=True)\n",
              "    (11): MaxPool2d(kernel_size=2, stride=1, padding=0, dilation=1, ceil_mode=False)\n",
              "    (12): Conv2d(64, 32, kernel_size=(3, 3), stride=(1, 1), padding=(1, 1))\n",
              "    (13): ReLU(inplace=True)\n",
              "    (14): MaxPool2d(kernel_size=2, stride=1, padding=0, dilation=1, ceil_mode=False)\n",
              "  )\n",
              "  (classifier): Sequential(\n",
              "    (0): Dropout(p=0.5, inplace=False)\n",
              "    (1): Linear(in_features=2592, out_features=2048, bias=True)\n",
              "    (2): ReLU(inplace=True)\n",
              "    (3): Dropout(p=0.5, inplace=False)\n",
              "    (4): Linear(in_features=2048, out_features=1024, bias=True)\n",
              "    (5): ReLU(inplace=True)\n",
              "    (6): Linear(in_features=1024, out_features=10, bias=True)\n",
              "  )\n",
              ")"
            ]
          },
          "metadata": {},
          "execution_count": 7
        }
      ]
    },
    {
      "cell_type": "markdown",
      "source": [
        "##Train DataSet"
      ],
      "metadata": {
        "id": "36tiotr5adGE"
      }
    },
    {
      "cell_type": "code",
      "execution_count": null,
      "metadata": {
        "id": "9rv2fOanvyyE"
      },
      "outputs": [],
      "source": [
        "# Define the transformations\n",
        "transform = transforms.Compose([transforms.ToTensor()])"
      ]
    },
    {
      "cell_type": "code",
      "source": [
        "#Download train dataset from mnist dataset\n",
        "dataset  = torchvision.datasets.MNIST(root='./data',train=True,transform=transform,download=True)\n",
        "\n",
        "\n",
        "num_samples_per_class = 122\n",
        "\n",
        "\n",
        "total_samples = num_samples_per_class * 10\n",
        "\n",
        "\n",
        "class_indices = dataset.targets.unique()\n",
        "datasets_per_class = []\n",
        "for class_index in class_indices:\n",
        "    class_samples = [i for i, label in enumerate(dataset.targets) if label == class_index]\n",
        "    selected_samples = class_samples[:num_samples_per_class]\n",
        "    selected_dataset = torch.utils.data.Subset(dataset, selected_samples)\n",
        "    datasets_per_class.append(selected_dataset)\n",
        "\n",
        "dataset = ConcatDataset(datasets_per_class)\n",
        "\n",
        "# dataset = torch.utils.data.DataLoader(dataset, batch_size=1, shuffle=True)"
      ],
      "metadata": {
        "id": "uMuSoZz3-xPX"
      },
      "execution_count": null,
      "outputs": []
    },
    {
      "cell_type": "code",
      "source": [
        "# Get the data and labels from the test set:\n",
        "train_images = torch.stack([dataset[i][0] for i in range(len(dataset))])\n",
        "train_labels = torch.tensor([dataset[i][1] for i in range(len(dataset))])\n",
        "\n",
        "#reshape labels\n",
        "train_labels = train_labels.view(-1, 1)"
      ],
      "metadata": {
        "id": "zpVLOXmpeN6T"
      },
      "execution_count": null,
      "outputs": []
    },
    {
      "cell_type": "markdown",
      "source": [
        "##features"
      ],
      "metadata": {
        "id": "yIGV9wApfa8t"
      }
    },
    {
      "cell_type": "code",
      "source": [
        "# Create a forward hook function to capture features before the fully connected layers\n",
        "features = None\n",
        "\n",
        "def hook(module, input, output):\n",
        "    global features\n",
        "    features = output\n",
        "\n",
        "\n",
        "# Register the hook to the last layer before the fully connected layers\n",
        "model.feature[-1].register_forward_hook(hook)\n",
        "\n",
        "\n",
        "# Pass data through the model\n",
        "with torch.no_grad():\n",
        "    output = model(train_images)"
      ],
      "metadata": {
        "id": "_FWzwjD447Ly"
      },
      "execution_count": null,
      "outputs": []
    },
    {
      "cell_type": "code",
      "source": [
        "features = features.view(features.size(0),-1)"
      ],
      "metadata": {
        "id": "ohVpdM9DH4_m"
      },
      "execution_count": null,
      "outputs": []
    },
    {
      "cell_type": "code",
      "source": [
        "random_features = features[:,:400]"
      ],
      "metadata": {
        "id": "dBoIsILDcR8r"
      },
      "execution_count": null,
      "outputs": []
    },
    {
      "cell_type": "code",
      "source": [
        "train_labels.shape"
      ],
      "metadata": {
        "id": "tGGlFjtBP4rI",
        "colab": {
          "base_uri": "https://localhost:8080/"
        },
        "outputId": "8bc960ee-91aa-47c0-cfe2-22831954382a"
      },
      "execution_count": null,
      "outputs": [
        {
          "output_type": "execute_result",
          "data": {
            "text/plain": [
              "torch.Size([1220, 1])"
            ]
          },
          "metadata": {},
          "execution_count": 14
        }
      ]
    },
    {
      "cell_type": "markdown",
      "source": [
        "## forward_feature_ranking_si"
      ],
      "metadata": {
        "id": "n8TjxVMqf4zl"
      }
    },
    {
      "cell_type": "code",
      "source": [
        "instance_disturbance = Kalhor_SeparationIndex(random_features, train_labels)"
      ],
      "metadata": {
        "id": "Pl5xkN_5gJFn"
      },
      "execution_count": null,
      "outputs": []
    },
    {
      "cell_type": "code",
      "source": [
        "si_ranked_features, ranked_features = instance_disturbance.forward_feature_ranking_si()"
      ],
      "metadata": {
        "colab": {
          "base_uri": "https://localhost:8080/"
        },
        "id": "yIogAr0FglCT",
        "outputId": "26b73955-13f1-402d-9ade-218a6d3ad1c2"
      },
      "execution_count": null,
      "outputs": [
        {
          "output_type": "stream",
          "name": "stderr",
          "text": [
            "100%|██████████| 400/400 [22:05<00:00,  3.31s/it]\n"
          ]
        }
      ]
    },
    {
      "cell_type": "code",
      "source": [
        "plt.subplot(2, 1, 2)\n",
        "plt.plot(si_ranked_features.cpu().detach().numpy(), 'b')\n",
        "plt.xlabel(\"Number of selected features\")\n",
        "plt.ylabel(\"SI\")\n",
        "plt.title(\"Forward feature ranking by SI\")\n",
        "plt.show()\n",
        "si_ranked_features = torch.transpose(si_ranked_features, 0, 1)\n",
        "print('Ranked features are: ', ranked_features)\n",
        "print('si for the best chosen Features are: ', si_ranked_features.detach().cpu().numpy())"
      ],
      "metadata": {
        "id": "G6uBpblpSb1G",
        "colab": {
          "base_uri": "https://localhost:8080/"
        },
        "outputId": "48bca02b-b68c-4dc1-c32c-712c92b4cab4"
      },
      "execution_count": null,
      "outputs": [
        {
          "output_type": "display_data",
          "data": {
            "text/plain": [
              "<Figure size 640x480 with 1 Axes>"
            ],
            "image/png": "[encoded data removed]"
          },
          "metadata": {}
        },
        {
          "output_type": "stream",
          "name": "stdout",
          "text": [
            "Ranked features are:  tensor([[228., 175., 133., 263.,   3., 128.,  34., 153., 241., 123., 298., 202.,\n",
            "         177., 287., 302., 149., 178., 325., 388., 217.,  47., 114., 352.,  62.,\n",
            "          99., 209., 239., 316.,  21.,  33., 329., 369.,  11., 335., 243., 258.,\n",
            "         311., 320., 337., 345., 355., 356., 357., 364., 365., 366., 383., 346.,\n",
            "         394., 349., 350., 359., 368.,  32., 249.,  14., 198.,   0., 164., 326.,\n",
            "          78., 199., 378.,  71.,  61.,  70., 100., 109., 259., 260.,  67.,  49.,\n",
            "         162., 397.,  19.,  77., 270., 321.,  51.,  52.,  64., 230.,  91.,  30.,\n",
            "         160.,  10., 267.,  50.,  90., 174., 218., 210., 252., 330.,   1.,  42.,\n",
            "         207., 313., 322., 327., 328., 338., 339., 344., 347., 348., 354., 358.,\n",
            "         367., 370., 373., 374., 375., 376., 377., 381., 384., 385., 393.,  20.,\n",
            "          31.,  23., 323., 386., 340.,  53., 170., 273., 271., 257., 314., 336.,\n",
            "          41., 150., 244., 166., 167., 176., 353., 126.,  48., 395.,  73.,  76.,\n",
            "         266., 362., 161., 168., 363., 392.,  75., 108., 304.,  46., 236.,  38.,\n",
            "         151.,  29.,  40., 115., 310.,  82., 190.,  79.,  55.,  59., 334., 139.,\n",
            "         333.,  60., 361.,  68.,  69., 279., 116., 295., 120., 196., 208., 341.,\n",
            "         169., 118., 294., 303., 305., 312., 318., 319., 343., 372., 382.,  22.,\n",
            "          28.,  65., 145.,  72., 148., 147., 212.,   2., 206., 197., 211., 371.,\n",
            "           9., 227., 275., 240., 274.,  74., 296., 379., 380., 391., 398., 389.,\n",
            "         399., 390.,  18., 117.,  27.,  37.,  43.,  63.,  81., 135., 119., 127.,\n",
            "         180., 165.,  12., 276.,  13., 107., 137., 146., 159., 297., 129., 171.,\n",
            "         351., 188., 179., 172.,  80., 331., 342., 286., 136., 216., 189., 138.,\n",
            "         173., 272.,  24., 124.,  54., 231., 110.,  66., 221., 232., 215., 253.,\n",
            "         105., 387.,  39., 152., 315.,  26., 130., 155., 181.,  15.,  45., 144.,\n",
            "         113., 293., 140., 248.,  36., 154.,  16., 122., 360., 193.,  44., 233.,\n",
            "         131.,  35., 163.,  83.,  17., 396.,  84., 101., 265.,  58., 262., 111.,\n",
            "         141., 184., 250., 251., 288.,  25.,  56.,  57., 125., 220., 203., 261.,\n",
            "         278., 284., 268., 317., 269., 112., 277., 224., 132., 185., 104., 219.,\n",
            "          87.,  92., 106., 242., 307., 156.,  85., 121., 205., 324., 285., 283.,\n",
            "         301., 264., 308., 306., 204.,   4.,   5., 103., 201., 194., 182., 229.,\n",
            "          93., 238., 235., 237., 332., 226., 225.,   6., 143.,  97., 292.,  88.,\n",
            "         186., 187., 195., 191., 309., 102., 200., 183., 192., 157., 254., 142.,\n",
            "         256., 213., 222., 299.,  96.,   7., 158., 290., 282., 281.,   8., 234.,\n",
            "          86., 214., 223., 300.,  89.,  94., 245., 255., 246.,  98., 247., 291.,\n",
            "         289., 134., 280.,  95.]])\n",
            "si for the best chosen Features are:  [[0.21803279 0.36639345 0.48360655 0.5795082  0.6385246  0.68606555\n",
            "  0.72540987 0.77213115 0.80655736 0.8286885  0.84590167 0.8680328\n",
            "  0.88442624 0.8909836  0.8967213  0.89918035 0.90163934 0.9065574\n",
            "  0.90983605 0.9131147  0.9155738  0.9245902  0.9295082  0.9311475\n",
            "  0.9327869  0.93524593 0.93688524 0.9401639  0.9409836  0.9418033\n",
            "  0.94262296 0.94344264 0.94344264 0.94426227 0.94426227 0.94426227\n",
            "  0.94426227 0.94426227 0.94426227 0.94426227 0.94426227 0.94426227\n",
            "  0.94426227 0.94426227 0.94426227 0.94426227 0.94426227 0.94426227\n",
            "  0.94426227 0.94508195 0.94508195 0.94590163 0.9467213  0.9467213\n",
            "  0.9467213  0.9467213  0.947541   0.947541   0.9491803  0.95\n",
            "  0.9508197  0.95163935 0.95245904 0.95245904 0.95245904 0.95245904\n",
            "  0.95245904 0.95327866 0.95327866 0.95327866 0.95327866 0.95327866\n",
            "  0.95327866 0.95409834 0.95409834 0.95409834 0.95409834 0.954918\n",
            "  0.954918   0.954918   0.954918   0.9557377  0.9565574  0.9565574\n",
            "  0.9573771  0.9573771  0.9573771  0.9573771  0.9573771  0.9581967\n",
            "  0.9590164  0.95983607 0.96147543 0.96229506 0.96229506 0.96229506\n",
            "  0.96229506 0.96229506 0.96229506 0.96229506 0.96229506 0.96229506\n",
            "  0.96229506 0.96229506 0.96229506 0.96229506 0.96229506 0.96229506\n",
            "  0.96229506 0.96229506 0.96229506 0.96229506 0.96229506 0.96229506\n",
            "  0.96229506 0.96229506 0.96229506 0.96229506 0.96229506 0.96147543\n",
            "  0.96147543 0.96065575 0.96065575 0.96065575 0.96065575 0.95983607\n",
            "  0.95983607 0.96065575 0.96147543 0.96147543 0.96147543 0.96147543\n",
            "  0.96065575 0.96065575 0.96065575 0.95983607 0.95983607 0.96065575\n",
            "  0.96065575 0.95983607 0.96065575 0.96147543 0.96147543 0.96147543\n",
            "  0.96147543 0.96147543 0.96147543 0.96147543 0.96147543 0.96147543\n",
            "  0.96065575 0.96147543 0.96147543 0.96147543 0.96147543 0.96229506\n",
            "  0.9639344  0.9639344  0.9639344  0.9639344  0.9647541  0.9647541\n",
            "  0.9647541  0.9647541  0.9647541  0.9647541  0.9655738  0.9663935\n",
            "  0.9680328  0.9680328  0.96885246 0.96885246 0.96885246 0.96885246\n",
            "  0.96885246 0.96885246 0.96885246 0.9704918  0.97131145 0.97213113\n",
            "  0.97213113 0.97213113 0.97213113 0.97213113 0.97213113 0.97213113\n",
            "  0.97213113 0.97213113 0.97213113 0.97213113 0.9729508  0.97213113\n",
            "  0.97131145 0.97131145 0.97213113 0.97213113 0.97213113 0.97213113\n",
            "  0.97213113 0.97213113 0.97213113 0.9729508  0.9729508  0.9737705\n",
            "  0.9737705  0.9737705  0.9737705  0.9737705  0.9737705  0.9737705\n",
            "  0.9737705  0.9737705  0.9737705  0.9737705  0.9737705  0.9737705\n",
            "  0.9737705  0.9737705  0.9729508  0.9729508  0.97213113 0.97213113\n",
            "  0.97213113 0.97213113 0.97213113 0.97213113 0.97213113 0.97213113\n",
            "  0.97213113 0.97213113 0.97213113 0.97213113 0.97131145 0.97131145\n",
            "  0.97131145 0.97131145 0.97131145 0.97131145 0.97213113 0.97213113\n",
            "  0.97213113 0.97213113 0.97213113 0.97213113 0.97213113 0.97213113\n",
            "  0.97213113 0.9729508  0.9729508  0.9729508  0.9729508  0.9729508\n",
            "  0.97213113 0.97213113 0.97131145 0.97131145 0.97131145 0.97131145\n",
            "  0.97131145 0.9704918  0.96967214 0.96967214 0.96967214 0.96967214\n",
            "  0.96967214 0.9704918  0.9704918  0.9704918  0.9704918  0.96967214\n",
            "  0.96967214 0.96967214 0.9704918  0.9704918  0.9704918  0.97131145\n",
            "  0.97213113 0.97213113 0.97213113 0.97213113 0.97213113 0.97213113\n",
            "  0.97213113 0.9729508  0.9737705  0.9737705  0.9745902  0.9745902\n",
            "  0.97540987 0.97540987 0.97540987 0.97540987 0.9745902  0.9745902\n",
            "  0.9745902  0.9745902  0.9745902  0.9745902  0.9745902  0.9737705\n",
            "  0.9729508  0.9729508  0.9729508  0.9729508  0.9729508  0.97213113\n",
            "  0.97131145 0.97131145 0.97131145 0.9704918  0.9704918  0.9704918\n",
            "  0.97131145 0.97213113 0.97213113 0.97213113 0.97131145 0.9704918\n",
            "  0.9704918  0.96967214 0.96967214 0.96885246 0.9680328  0.9680328\n",
            "  0.9680328  0.9672131  0.9663935  0.9663935  0.9663935  0.9663935\n",
            "  0.9663935  0.9663935  0.9663935  0.9672131  0.9680328  0.9680328\n",
            "  0.9680328  0.9680328  0.9680328  0.9680328  0.9672131  0.9663935\n",
            "  0.9663935  0.9655738  0.9647541  0.9663935  0.9655738  0.9655738\n",
            "  0.9647541  0.9647541  0.9647541  0.9647541  0.9647541  0.9647541\n",
            "  0.9639344  0.96311474 0.96229506 0.96147543 0.96147543 0.96065575\n",
            "  0.96065575 0.96065575 0.96065575 0.96147543 0.96147543 0.96147543\n",
            "  0.96065575 0.95983607 0.9590164  0.9581967  0.9581967  0.9581967\n",
            "  0.9590164  0.9590164  0.9590164  0.9590164  0.9581967  0.9573771\n",
            "  0.9565574  0.9565574  0.9565574  0.9565574  0.9557377  0.9557377\n",
            "  0.954918   0.95409834 0.95409834 0.954918   0.954918   0.954918\n",
            "  0.954918   0.954918   0.95409834 0.95327866 0.95327866 0.95163935\n",
            "  0.95245904 0.95163935 0.95       0.947541  ]]\n"
          ]
        }
      ]
    },
    {
      "cell_type": "code",
      "source": [
        "si_ranked_features = si_ranked_features.cpu().detach().numpy()\n",
        "max_index = np.argmax(si_ranked_features)"
      ],
      "metadata": {
        "id": "1IcscJVNi8Ch"
      },
      "execution_count": null,
      "outputs": []
    },
    {
      "cell_type": "code",
      "source": [
        "print(max_index)"
      ],
      "metadata": {
        "id": "P390uc0rRYyF",
        "colab": {
          "base_uri": "https://localhost:8080/"
        },
        "outputId": "e705c3e4-bb0d-49a9-c167-7bc8f55a2533"
      },
      "execution_count": null,
      "outputs": [
        {
          "output_type": "stream",
          "name": "stdout",
          "text": [
            "288\n"
          ]
        }
      ]
    },
    {
      "cell_type": "code",
      "source": [
        "final_selected_features = features[:, :max_index]"
      ],
      "metadata": {
        "id": "UawL2SCJxJCR"
      },
      "execution_count": null,
      "outputs": []
    },
    {
      "cell_type": "code",
      "source": [
        "final_selected_features.shape"
      ],
      "metadata": {
        "id": "Ai8uOACzQD2y",
        "colab": {
          "base_uri": "https://localhost:8080/"
        },
        "outputId": "03c61606-9cc8-4868-ec9d-d67f2f806049"
      },
      "execution_count": null,
      "outputs": [
        {
          "output_type": "execute_result",
          "data": {
            "text/plain": [
              "torch.Size([1220, 288])"
            ]
          },
          "metadata": {},
          "execution_count": 21
        }
      ]
    },
    {
      "cell_type": "markdown",
      "source": [
        "#Part 2"
      ],
      "metadata": {
        "id": "WtKU3NabqKLs"
      }
    },
    {
      "cell_type": "markdown",
      "source": [
        "## Train and validation data set"
      ],
      "metadata": {
        "id": "X5GscFbx8SBj"
      }
    },
    {
      "cell_type": "code",
      "source": [
        "batch_size = 64"
      ],
      "metadata": {
        "id": "tWMq2NLaNY6o"
      },
      "execution_count": null,
      "outputs": []
    },
    {
      "cell_type": "code",
      "source": [
        "#creat data set with final_selected_features and train_labels\n",
        "dataset = TensorDataset(final_selected_features, train_labels)\n",
        "\n",
        "#creat train and validation dataset\n",
        "dataset_size = len(final_selected_features)\n",
        "val_ratio = 0.2\n",
        "train_ratio = 0.8\n",
        "\n",
        "val_size = int(dataset_size * val_ratio)\n",
        "train_size = dataset_size - val_size\n",
        "\n",
        "\n",
        "train_dataset, val_dataset = random_split(dataset, [train_size, val_size])\n",
        "\n",
        "#creat train dataloader and val dataloader\n",
        "train_dataloader = DataLoader(train_dataset, batch_size=batch_size, shuffle=True)\n",
        "val_dataloader = DataLoader(val_dataset, batch_size=batch_size, shuffle=False)"
      ],
      "metadata": {
        "id": "ba5PU5r0wh-5"
      },
      "execution_count": null,
      "outputs": []
    },
    {
      "cell_type": "markdown",
      "source": [
        "##Train classifier of model"
      ],
      "metadata": {
        "id": "CWVU7XZU9B8P"
      }
    },
    {
      "cell_type": "code",
      "source": [
        "# Define the AlexNet model\n",
        "class Classifier_AlexNet(nn.Module):\n",
        "    def __init__(self, num=10):\n",
        "        super(Classifier_AlexNet, self).__init__()\n",
        "\n",
        "        self.classifier = nn.Sequential(\n",
        "            nn.Dropout(),\n",
        "            nn.Linear(max_index,2048),\n",
        "            nn.ReLU(inplace=True),\n",
        "            nn.Dropout(),\n",
        "            nn.Linear(2048,1024),\n",
        "            nn.ReLU(inplace=True),\n",
        "            nn.Linear(1024,num),\n",
        "        )\n",
        "\n",
        "    def forward(self, x):\n",
        "        x = self.classifier(x)\n",
        "        return x"
      ],
      "metadata": {
        "id": "9gEWb3QLNeBz"
      },
      "execution_count": null,
      "outputs": []
    },
    {
      "cell_type": "code",
      "source": [
        "model2 = Classifier_AlexNet()"
      ],
      "metadata": {
        "id": "GNM_3avGN5_W"
      },
      "execution_count": null,
      "outputs": []
    },
    {
      "cell_type": "code",
      "source": [
        "#Definition optimal function and loss function\n",
        "criterion = torch.nn.CrossEntropyLoss()\n",
        "optimizer = torch.optim.Adam(model2.parameters(), lr=0.00001)"
      ],
      "metadata": {
        "id": "xhfK6z6S7NX_"
      },
      "execution_count": null,
      "outputs": []
    },
    {
      "cell_type": "code",
      "source": [
        "device = torch.device(\"cuda:0\" if torch.cuda.is_available() else \"cpu\")"
      ],
      "metadata": {
        "id": "uMP63Bcbx_nM"
      },
      "execution_count": null,
      "outputs": []
    },
    {
      "cell_type": "code",
      "source": [
        "model2.to(device)"
      ],
      "metadata": {
        "colab": {
          "base_uri": "https://localhost:8080/"
        },
        "id": "GAF-Rw9KyAnM",
        "outputId": "d66788f3-4484-4847-8f46-988803dd234f"
      },
      "execution_count": null,
      "outputs": [
        {
          "output_type": "execute_result",
          "data": {
            "text/plain": [
              "Classifier_AlexNet(\n",
              "  (classifier): Sequential(\n",
              "    (0): Dropout(p=0.5, inplace=False)\n",
              "    (1): Linear(in_features=288, out_features=2048, bias=True)\n",
              "    (2): ReLU(inplace=True)\n",
              "    (3): Dropout(p=0.5, inplace=False)\n",
              "    (4): Linear(in_features=2048, out_features=1024, bias=True)\n",
              "    (5): ReLU(inplace=True)\n",
              "    (6): Linear(in_features=1024, out_features=10, bias=True)\n",
              "  )\n",
              ")"
            ]
          },
          "metadata": {},
          "execution_count": 51
        }
      ]
    },
    {
      "cell_type": "code",
      "source": [
        "# Train classifier model\n",
        "train_accs = []\n",
        "val_accs = []\n",
        "train_losses = []\n",
        "val_losses = []\n",
        "\n",
        "num_epochs = 400\n",
        "for epoch in range(num_epochs):\n",
        "    model2.train()\n",
        "    running_loss = 0.0\n",
        "    correct_train = 0\n",
        "    total_train = 0\n",
        "\n",
        "    for inputs, labels in train_dataloader:\n",
        "        inputs = inputs.to(device)\n",
        "        labels = labels.to(device)\n",
        "        inputs = inputs.unsqueeze(dim=1)\n",
        "\n",
        "        optimizer.zero_grad()\n",
        "\n",
        "\n",
        "        outputs = model2(inputs)\n",
        "        outputs = outputs.squeeze()\n",
        "        labels = labels.squeeze(dim=1)\n",
        "        loss = criterion(outputs, labels)\n",
        "        loss.backward()\n",
        "        optimizer.step()\n",
        "\n",
        "        running_loss += loss.item()\n",
        "\n",
        "        _, predicted = torch.max(outputs.data, 1)\n",
        "        total_train += labels.size(0)\n",
        "        correct_train += (predicted == labels).sum().item()\n",
        "\n",
        "    model2.eval()\n",
        "    correct_val = 0\n",
        "    total_val = 0\n",
        "    val_loss = 0.0\n",
        "\n",
        "    with torch.no_grad():\n",
        "        for inputs, labels in val_dataloader:\n",
        "            inputs = inputs.to(device)\n",
        "            labels = labels.to(device)\n",
        "            inputs = inputs.unsqueeze(dim=1)\n",
        "            labels = labels.squeeze(dim=1)\n",
        "\n",
        "\n",
        "\n",
        "\n",
        "            outputs = model2(inputs)\n",
        "            outputs = outputs.squeeze()\n",
        "\n",
        "            val_loss += criterion(outputs, labels).item()\n",
        "\n",
        "            _, predicted = torch.max(outputs.data, 1)\n",
        "            total_val += labels.size(0)\n",
        "            correct_val += (predicted == labels).sum().item()\n",
        "\n",
        "    train_accuracy = 100 * correct_train / total_train\n",
        "    val_accuracy = 100 * correct_val / total_val\n",
        "    train_accs.append(train_accuracy)\n",
        "    val_accs.append(val_accuracy)\n",
        "    train_losses.append(running_loss / len(train_dataloader))\n",
        "    val_losses.append(val_loss / len(val_dataloader))\n",
        "\n",
        "    print('Epoch [{}/{}], Loss: {:.4f}, Train Accuracy: {:.2f}%, Validation Accuracy: {:.2f}%' .format(epoch + 1, num_epochs, running_loss / len(train_dataloader), train_accuracy, val_accuracy))"
      ],
      "metadata": {
        "colab": {
          "base_uri": "https://localhost:8080/"
        },
        "id": "FZfbmAMydsVa",
        "outputId": "726c55c6-1176-40e5-f5b6-1dee4cdc92f3"
      },
      "execution_count": null,
      "outputs": [
        {
          "output_type": "stream",
          "name": "stdout",
          "text": [
            "Epoch [1/400], Loss: 2.3014, Train Accuracy: 11.17%, Validation Accuracy: 13.93%\n",
            "Epoch [2/400], Loss: 2.2937, Train Accuracy: 15.57%, Validation Accuracy: 16.80%\n",
            "Epoch [3/400], Loss: 2.2860, Train Accuracy: 18.44%, Validation Accuracy: 16.80%\n",
            "Epoch [4/400], Loss: 2.2806, Train Accuracy: 21.72%, Validation Accuracy: 25.82%\n",
            "Epoch [5/400], Loss: 2.2716, Train Accuracy: 26.64%, Validation Accuracy: 30.33%\n",
            "Epoch [6/400], Loss: 2.2648, Train Accuracy: 30.12%, Validation Accuracy: 34.02%\n",
            "Epoch [7/400], Loss: 2.2567, Train Accuracy: 33.61%, Validation Accuracy: 39.34%\n",
            "Epoch [8/400], Loss: 2.2484, Train Accuracy: 34.73%, Validation Accuracy: 43.85%\n",
            "Epoch [9/400], Loss: 2.2389, Train Accuracy: 36.89%, Validation Accuracy: 45.49%\n",
            "Epoch [10/400], Loss: 2.2298, Train Accuracy: 40.16%, Validation Accuracy: 47.95%\n",
            "Epoch [11/400], Loss: 2.2197, Train Accuracy: 42.62%, Validation Accuracy: 50.00%\n",
            "Epoch [12/400], Loss: 2.2080, Train Accuracy: 44.47%, Validation Accuracy: 51.64%\n",
            "Epoch [13/400], Loss: 2.1927, Train Accuracy: 45.80%, Validation Accuracy: 53.28%\n",
            "Epoch [14/400], Loss: 2.1784, Train Accuracy: 48.36%, Validation Accuracy: 53.28%\n",
            "Epoch [15/400], Loss: 2.1667, Train Accuracy: 49.08%, Validation Accuracy: 53.69%\n",
            "Epoch [16/400], Loss: 2.1519, Train Accuracy: 50.92%, Validation Accuracy: 56.15%\n",
            "Epoch [17/400], Loss: 2.1385, Train Accuracy: 49.39%, Validation Accuracy: 57.79%\n",
            "Epoch [18/400], Loss: 2.1206, Train Accuracy: 51.95%, Validation Accuracy: 63.11%\n",
            "Epoch [19/400], Loss: 2.0975, Train Accuracy: 55.02%, Validation Accuracy: 64.75%\n",
            "Epoch [20/400], Loss: 2.0770, Train Accuracy: 55.02%, Validation Accuracy: 64.75%\n",
            "Epoch [21/400], Loss: 2.0568, Train Accuracy: 56.25%, Validation Accuracy: 67.62%\n",
            "Epoch [22/400], Loss: 2.0426, Train Accuracy: 56.76%, Validation Accuracy: 68.85%\n",
            "Epoch [23/400], Loss: 2.0160, Train Accuracy: 60.25%, Validation Accuracy: 70.08%\n",
            "Epoch [24/400], Loss: 1.9918, Train Accuracy: 60.35%, Validation Accuracy: 71.72%\n",
            "Epoch [25/400], Loss: 1.9651, Train Accuracy: 61.99%, Validation Accuracy: 72.95%\n",
            "Epoch [26/400], Loss: 1.9330, Train Accuracy: 64.45%, Validation Accuracy: 75.00%\n",
            "Epoch [27/400], Loss: 1.9120, Train Accuracy: 64.24%, Validation Accuracy: 75.82%\n",
            "Epoch [28/400], Loss: 1.8896, Train Accuracy: 66.29%, Validation Accuracy: 76.64%\n",
            "Epoch [29/400], Loss: 1.8625, Train Accuracy: 68.24%, Validation Accuracy: 77.05%\n",
            "Epoch [30/400], Loss: 1.8318, Train Accuracy: 70.49%, Validation Accuracy: 77.87%\n",
            "Epoch [31/400], Loss: 1.8070, Train Accuracy: 71.00%, Validation Accuracy: 78.28%\n",
            "Epoch [32/400], Loss: 1.7661, Train Accuracy: 71.93%, Validation Accuracy: 80.33%\n",
            "Epoch [33/400], Loss: 1.7262, Train Accuracy: 73.87%, Validation Accuracy: 81.15%\n",
            "Epoch [34/400], Loss: 1.7118, Train Accuracy: 75.31%, Validation Accuracy: 82.79%\n",
            "Epoch [35/400], Loss: 1.6767, Train Accuracy: 76.64%, Validation Accuracy: 83.61%\n",
            "Epoch [36/400], Loss: 1.6657, Train Accuracy: 77.66%, Validation Accuracy: 84.02%\n",
            "Epoch [37/400], Loss: 1.6213, Train Accuracy: 79.41%, Validation Accuracy: 84.02%\n",
            "Epoch [38/400], Loss: 1.5847, Train Accuracy: 78.69%, Validation Accuracy: 84.02%\n",
            "Epoch [39/400], Loss: 1.5563, Train Accuracy: 82.99%, Validation Accuracy: 84.43%\n",
            "Epoch [40/400], Loss: 1.5305, Train Accuracy: 81.35%, Validation Accuracy: 84.84%\n",
            "Epoch [41/400], Loss: 1.4922, Train Accuracy: 82.79%, Validation Accuracy: 85.25%\n",
            "Epoch [42/400], Loss: 1.4791, Train Accuracy: 82.07%, Validation Accuracy: 86.48%\n",
            "Epoch [43/400], Loss: 1.4432, Train Accuracy: 84.22%, Validation Accuracy: 87.70%\n",
            "Epoch [44/400], Loss: 1.4317, Train Accuracy: 83.91%, Validation Accuracy: 88.52%\n",
            "Epoch [45/400], Loss: 1.3956, Train Accuracy: 85.86%, Validation Accuracy: 90.16%\n",
            "Epoch [46/400], Loss: 1.3639, Train Accuracy: 87.70%, Validation Accuracy: 90.57%\n",
            "Epoch [47/400], Loss: 1.3167, Train Accuracy: 88.11%, Validation Accuracy: 90.98%\n",
            "Epoch [48/400], Loss: 1.3047, Train Accuracy: 87.60%, Validation Accuracy: 90.98%\n",
            "Epoch [49/400], Loss: 1.2693, Train Accuracy: 88.11%, Validation Accuracy: 90.98%\n",
            "Epoch [50/400], Loss: 1.2527, Train Accuracy: 88.11%, Validation Accuracy: 91.39%\n",
            "Epoch [51/400], Loss: 1.2186, Train Accuracy: 89.24%, Validation Accuracy: 91.39%\n",
            "Epoch [52/400], Loss: 1.1954, Train Accuracy: 88.01%, Validation Accuracy: 91.39%\n",
            "Epoch [53/400], Loss: 1.1636, Train Accuracy: 89.75%, Validation Accuracy: 91.39%\n",
            "Epoch [54/400], Loss: 1.1302, Train Accuracy: 89.55%, Validation Accuracy: 91.39%\n",
            "Epoch [55/400], Loss: 1.1248, Train Accuracy: 88.93%, Validation Accuracy: 90.98%\n",
            "Epoch [56/400], Loss: 1.0649, Train Accuracy: 89.96%, Validation Accuracy: 91.39%\n",
            "Epoch [57/400], Loss: 1.0643, Train Accuracy: 90.57%, Validation Accuracy: 91.80%\n",
            "Epoch [58/400], Loss: 1.0245, Train Accuracy: 90.57%, Validation Accuracy: 92.21%\n",
            "Epoch [59/400], Loss: 1.0020, Train Accuracy: 90.57%, Validation Accuracy: 92.21%\n",
            "Epoch [60/400], Loss: 1.0102, Train Accuracy: 91.39%, Validation Accuracy: 93.03%\n",
            "Epoch [61/400], Loss: 0.9694, Train Accuracy: 92.42%, Validation Accuracy: 93.44%\n",
            "Epoch [62/400], Loss: 0.9487, Train Accuracy: 90.88%, Validation Accuracy: 93.44%\n",
            "Epoch [63/400], Loss: 0.9293, Train Accuracy: 90.88%, Validation Accuracy: 93.44%\n",
            "Epoch [64/400], Loss: 0.8966, Train Accuracy: 92.21%, Validation Accuracy: 93.03%\n",
            "Epoch [65/400], Loss: 0.8851, Train Accuracy: 92.11%, Validation Accuracy: 93.44%\n",
            "Epoch [66/400], Loss: 0.8773, Train Accuracy: 91.80%, Validation Accuracy: 93.44%\n",
            "Epoch [67/400], Loss: 0.8418, Train Accuracy: 92.42%, Validation Accuracy: 93.44%\n",
            "Epoch [68/400], Loss: 0.8344, Train Accuracy: 92.52%, Validation Accuracy: 93.44%\n",
            "Epoch [69/400], Loss: 0.8003, Train Accuracy: 92.83%, Validation Accuracy: 93.44%\n",
            "Epoch [70/400], Loss: 0.7821, Train Accuracy: 92.11%, Validation Accuracy: 93.85%\n",
            "Epoch [71/400], Loss: 0.7515, Train Accuracy: 92.32%, Validation Accuracy: 93.85%\n",
            "Epoch [72/400], Loss: 0.7524, Train Accuracy: 91.80%, Validation Accuracy: 93.85%\n",
            "Epoch [73/400], Loss: 0.7405, Train Accuracy: 92.32%, Validation Accuracy: 93.85%\n",
            "Epoch [74/400], Loss: 0.7309, Train Accuracy: 92.52%, Validation Accuracy: 93.44%\n",
            "Epoch [75/400], Loss: 0.6976, Train Accuracy: 92.73%, Validation Accuracy: 93.85%\n",
            "Epoch [76/400], Loss: 0.6990, Train Accuracy: 91.91%, Validation Accuracy: 93.85%\n",
            "Epoch [77/400], Loss: 0.6835, Train Accuracy: 91.70%, Validation Accuracy: 93.85%\n",
            "Epoch [78/400], Loss: 0.6631, Train Accuracy: 92.21%, Validation Accuracy: 93.85%\n",
            "Epoch [79/400], Loss: 0.6598, Train Accuracy: 91.91%, Validation Accuracy: 93.85%\n",
            "Epoch [80/400], Loss: 0.6270, Train Accuracy: 93.65%, Validation Accuracy: 93.85%\n",
            "Epoch [81/400], Loss: 0.6204, Train Accuracy: 92.83%, Validation Accuracy: 93.85%\n",
            "Epoch [82/400], Loss: 0.6192, Train Accuracy: 92.93%, Validation Accuracy: 93.85%\n",
            "Epoch [83/400], Loss: 0.6231, Train Accuracy: 92.62%, Validation Accuracy: 93.85%\n",
            "Epoch [84/400], Loss: 0.5942, Train Accuracy: 93.03%, Validation Accuracy: 93.44%\n",
            "Epoch [85/400], Loss: 0.5692, Train Accuracy: 93.03%, Validation Accuracy: 93.44%\n",
            "Epoch [86/400], Loss: 0.5902, Train Accuracy: 93.03%, Validation Accuracy: 93.44%\n",
            "Epoch [87/400], Loss: 0.5663, Train Accuracy: 92.83%, Validation Accuracy: 93.44%\n",
            "Epoch [88/400], Loss: 0.5526, Train Accuracy: 93.14%, Validation Accuracy: 93.44%\n",
            "Epoch [89/400], Loss: 0.5461, Train Accuracy: 92.11%, Validation Accuracy: 93.44%\n",
            "Epoch [90/400], Loss: 0.5318, Train Accuracy: 93.44%, Validation Accuracy: 93.44%\n",
            "Epoch [91/400], Loss: 0.5349, Train Accuracy: 92.21%, Validation Accuracy: 93.44%\n",
            "Epoch [92/400], Loss: 0.5084, Train Accuracy: 93.75%, Validation Accuracy: 93.44%\n",
            "Epoch [93/400], Loss: 0.5047, Train Accuracy: 92.93%, Validation Accuracy: 93.44%\n",
            "Epoch [94/400], Loss: 0.5068, Train Accuracy: 93.55%, Validation Accuracy: 93.44%\n",
            "Epoch [95/400], Loss: 0.4814, Train Accuracy: 92.73%, Validation Accuracy: 93.44%\n",
            "Epoch [96/400], Loss: 0.4872, Train Accuracy: 93.14%, Validation Accuracy: 93.44%\n",
            "Epoch [97/400], Loss: 0.4868, Train Accuracy: 92.83%, Validation Accuracy: 93.44%\n",
            "Epoch [98/400], Loss: 0.4690, Train Accuracy: 93.44%, Validation Accuracy: 93.44%\n",
            "Epoch [99/400], Loss: 0.4715, Train Accuracy: 93.14%, Validation Accuracy: 93.44%\n",
            "Epoch [100/400], Loss: 0.4511, Train Accuracy: 93.85%, Validation Accuracy: 93.44%\n",
            "Epoch [101/400], Loss: 0.4635, Train Accuracy: 93.65%, Validation Accuracy: 93.44%\n",
            "Epoch [102/400], Loss: 0.4400, Train Accuracy: 93.75%, Validation Accuracy: 93.85%\n",
            "Epoch [103/400], Loss: 0.4440, Train Accuracy: 93.34%, Validation Accuracy: 93.85%\n",
            "Epoch [104/400], Loss: 0.4282, Train Accuracy: 93.65%, Validation Accuracy: 93.85%\n",
            "Epoch [105/400], Loss: 0.4204, Train Accuracy: 93.24%, Validation Accuracy: 93.85%\n",
            "Epoch [106/400], Loss: 0.4104, Train Accuracy: 93.85%, Validation Accuracy: 93.85%\n",
            "Epoch [107/400], Loss: 0.3937, Train Accuracy: 94.06%, Validation Accuracy: 93.85%\n",
            "Epoch [108/400], Loss: 0.4085, Train Accuracy: 94.06%, Validation Accuracy: 93.85%\n",
            "Epoch [109/400], Loss: 0.3884, Train Accuracy: 93.65%, Validation Accuracy: 93.85%\n",
            "Epoch [110/400], Loss: 0.3889, Train Accuracy: 93.95%, Validation Accuracy: 93.85%\n",
            "Epoch [111/400], Loss: 0.3929, Train Accuracy: 94.06%, Validation Accuracy: 93.85%\n",
            "Epoch [112/400], Loss: 0.3829, Train Accuracy: 92.73%, Validation Accuracy: 93.85%\n",
            "Epoch [113/400], Loss: 0.3825, Train Accuracy: 93.75%, Validation Accuracy: 93.85%\n",
            "Epoch [114/400], Loss: 0.3826, Train Accuracy: 94.26%, Validation Accuracy: 93.44%\n",
            "Epoch [115/400], Loss: 0.3620, Train Accuracy: 93.34%, Validation Accuracy: 93.44%\n",
            "Epoch [116/400], Loss: 0.3571, Train Accuracy: 93.95%, Validation Accuracy: 93.85%\n",
            "Epoch [117/400], Loss: 0.3682, Train Accuracy: 93.03%, Validation Accuracy: 93.85%\n",
            "Epoch [118/400], Loss: 0.3732, Train Accuracy: 94.36%, Validation Accuracy: 93.85%\n",
            "Epoch [119/400], Loss: 0.3388, Train Accuracy: 94.98%, Validation Accuracy: 93.85%\n",
            "Epoch [120/400], Loss: 0.3563, Train Accuracy: 94.16%, Validation Accuracy: 93.85%\n",
            "Epoch [121/400], Loss: 0.3562, Train Accuracy: 93.44%, Validation Accuracy: 93.85%\n",
            "Epoch [122/400], Loss: 0.3331, Train Accuracy: 94.36%, Validation Accuracy: 93.85%\n",
            "Epoch [123/400], Loss: 0.3473, Train Accuracy: 93.44%, Validation Accuracy: 93.85%\n",
            "Epoch [124/400], Loss: 0.3626, Train Accuracy: 94.88%, Validation Accuracy: 93.85%\n",
            "Epoch [125/400], Loss: 0.3282, Train Accuracy: 94.06%, Validation Accuracy: 93.85%\n",
            "Epoch [126/400], Loss: 0.3356, Train Accuracy: 94.26%, Validation Accuracy: 93.85%\n",
            "Epoch [127/400], Loss: 0.3140, Train Accuracy: 94.57%, Validation Accuracy: 93.85%\n",
            "Epoch [128/400], Loss: 0.3079, Train Accuracy: 93.95%, Validation Accuracy: 93.85%\n",
            "Epoch [129/400], Loss: 0.3308, Train Accuracy: 93.95%, Validation Accuracy: 93.85%\n",
            "Epoch [130/400], Loss: 0.3176, Train Accuracy: 93.75%, Validation Accuracy: 93.85%\n",
            "Epoch [131/400], Loss: 0.2965, Train Accuracy: 94.77%, Validation Accuracy: 93.85%\n",
            "Epoch [132/400], Loss: 0.3145, Train Accuracy: 94.47%, Validation Accuracy: 93.85%\n",
            "Epoch [133/400], Loss: 0.3028, Train Accuracy: 93.85%, Validation Accuracy: 93.85%\n",
            "Epoch [134/400], Loss: 0.3073, Train Accuracy: 94.47%, Validation Accuracy: 93.85%\n",
            "Epoch [135/400], Loss: 0.3021, Train Accuracy: 93.65%, Validation Accuracy: 94.26%\n",
            "Epoch [136/400], Loss: 0.2968, Train Accuracy: 95.08%, Validation Accuracy: 93.85%\n",
            "Epoch [137/400], Loss: 0.2940, Train Accuracy: 95.49%, Validation Accuracy: 93.85%\n",
            "Epoch [138/400], Loss: 0.2938, Train Accuracy: 94.88%, Validation Accuracy: 94.26%\n",
            "Epoch [139/400], Loss: 0.2775, Train Accuracy: 94.98%, Validation Accuracy: 94.26%\n",
            "Epoch [140/400], Loss: 0.2895, Train Accuracy: 93.14%, Validation Accuracy: 94.26%\n",
            "Epoch [141/400], Loss: 0.2947, Train Accuracy: 93.95%, Validation Accuracy: 94.26%\n",
            "Epoch [142/400], Loss: 0.2858, Train Accuracy: 94.88%, Validation Accuracy: 94.26%\n",
            "Epoch [143/400], Loss: 0.2754, Train Accuracy: 95.59%, Validation Accuracy: 94.26%\n",
            "Epoch [144/400], Loss: 0.2839, Train Accuracy: 94.26%, Validation Accuracy: 94.26%\n",
            "Epoch [145/400], Loss: 0.2694, Train Accuracy: 94.26%, Validation Accuracy: 94.26%\n",
            "Epoch [146/400], Loss: 0.2634, Train Accuracy: 95.59%, Validation Accuracy: 94.26%\n",
            "Epoch [147/400], Loss: 0.2731, Train Accuracy: 94.16%, Validation Accuracy: 94.26%\n",
            "Epoch [148/400], Loss: 0.2645, Train Accuracy: 95.29%, Validation Accuracy: 93.85%\n",
            "Epoch [149/400], Loss: 0.2586, Train Accuracy: 94.57%, Validation Accuracy: 93.85%\n",
            "Epoch [150/400], Loss: 0.2531, Train Accuracy: 95.39%, Validation Accuracy: 93.85%\n",
            "Epoch [151/400], Loss: 0.2693, Train Accuracy: 94.47%, Validation Accuracy: 93.85%\n",
            "Epoch [152/400], Loss: 0.2682, Train Accuracy: 94.06%, Validation Accuracy: 93.85%\n",
            "Epoch [153/400], Loss: 0.2344, Train Accuracy: 95.49%, Validation Accuracy: 93.85%\n",
            "Epoch [154/400], Loss: 0.2402, Train Accuracy: 95.18%, Validation Accuracy: 93.85%\n",
            "Epoch [155/400], Loss: 0.2587, Train Accuracy: 94.77%, Validation Accuracy: 94.26%\n",
            "Epoch [156/400], Loss: 0.2597, Train Accuracy: 95.49%, Validation Accuracy: 94.26%\n",
            "Epoch [157/400], Loss: 0.2435, Train Accuracy: 94.47%, Validation Accuracy: 94.26%\n",
            "Epoch [158/400], Loss: 0.2476, Train Accuracy: 94.88%, Validation Accuracy: 93.85%\n",
            "Epoch [159/400], Loss: 0.2614, Train Accuracy: 95.70%, Validation Accuracy: 93.85%\n",
            "Epoch [160/400], Loss: 0.2414, Train Accuracy: 95.90%, Validation Accuracy: 93.85%\n",
            "Epoch [161/400], Loss: 0.2504, Train Accuracy: 95.18%, Validation Accuracy: 93.85%\n",
            "Epoch [162/400], Loss: 0.2530, Train Accuracy: 94.77%, Validation Accuracy: 93.85%\n",
            "Epoch [163/400], Loss: 0.2392, Train Accuracy: 95.29%, Validation Accuracy: 93.85%\n",
            "Epoch [164/400], Loss: 0.2389, Train Accuracy: 94.77%, Validation Accuracy: 93.85%\n",
            "Epoch [165/400], Loss: 0.2351, Train Accuracy: 94.77%, Validation Accuracy: 93.85%\n",
            "Epoch [166/400], Loss: 0.2368, Train Accuracy: 94.88%, Validation Accuracy: 93.85%\n",
            "Epoch [167/400], Loss: 0.2473, Train Accuracy: 94.88%, Validation Accuracy: 93.85%\n",
            "Epoch [168/400], Loss: 0.2209, Train Accuracy: 95.80%, Validation Accuracy: 94.26%\n",
            "Epoch [169/400], Loss: 0.2428, Train Accuracy: 94.98%, Validation Accuracy: 93.85%\n",
            "Epoch [170/400], Loss: 0.2213, Train Accuracy: 95.29%, Validation Accuracy: 93.85%\n",
            "Epoch [171/400], Loss: 0.2166, Train Accuracy: 95.49%, Validation Accuracy: 94.26%\n",
            "Epoch [172/400], Loss: 0.2103, Train Accuracy: 94.98%, Validation Accuracy: 94.26%\n",
            "Epoch [173/400], Loss: 0.2148, Train Accuracy: 95.80%, Validation Accuracy: 94.26%\n",
            "Epoch [174/400], Loss: 0.2372, Train Accuracy: 94.26%, Validation Accuracy: 94.26%\n",
            "Epoch [175/400], Loss: 0.2073, Train Accuracy: 95.59%, Validation Accuracy: 94.26%\n",
            "Epoch [176/400], Loss: 0.2184, Train Accuracy: 95.59%, Validation Accuracy: 94.26%\n",
            "Epoch [177/400], Loss: 0.2240, Train Accuracy: 95.08%, Validation Accuracy: 94.26%\n",
            "Epoch [178/400], Loss: 0.2412, Train Accuracy: 94.67%, Validation Accuracy: 94.26%\n",
            "Epoch [179/400], Loss: 0.2180, Train Accuracy: 95.29%, Validation Accuracy: 93.85%\n",
            "Epoch [180/400], Loss: 0.2045, Train Accuracy: 96.21%, Validation Accuracy: 94.26%\n",
            "Epoch [181/400], Loss: 0.2139, Train Accuracy: 95.39%, Validation Accuracy: 94.26%\n",
            "Epoch [182/400], Loss: 0.2033, Train Accuracy: 96.00%, Validation Accuracy: 94.26%\n",
            "Epoch [183/400], Loss: 0.2243, Train Accuracy: 95.39%, Validation Accuracy: 94.26%\n",
            "Epoch [184/400], Loss: 0.2136, Train Accuracy: 95.08%, Validation Accuracy: 94.26%\n",
            "Epoch [185/400], Loss: 0.2034, Train Accuracy: 95.49%, Validation Accuracy: 94.26%\n",
            "Epoch [186/400], Loss: 0.2024, Train Accuracy: 95.39%, Validation Accuracy: 94.26%\n",
            "Epoch [187/400], Loss: 0.2050, Train Accuracy: 95.39%, Validation Accuracy: 94.26%\n",
            "Epoch [188/400], Loss: 0.2164, Train Accuracy: 94.88%, Validation Accuracy: 94.26%\n",
            "Epoch [189/400], Loss: 0.2125, Train Accuracy: 95.18%, Validation Accuracy: 94.26%\n",
            "Epoch [190/400], Loss: 0.1885, Train Accuracy: 95.90%, Validation Accuracy: 94.26%\n",
            "Epoch [191/400], Loss: 0.2089, Train Accuracy: 95.59%, Validation Accuracy: 94.26%\n",
            "Epoch [192/400], Loss: 0.2134, Train Accuracy: 95.08%, Validation Accuracy: 94.26%\n",
            "Epoch [193/400], Loss: 0.1945, Train Accuracy: 95.29%, Validation Accuracy: 94.26%\n",
            "Epoch [194/400], Loss: 0.2031, Train Accuracy: 95.29%, Validation Accuracy: 94.26%\n",
            "Epoch [195/400], Loss: 0.1823, Train Accuracy: 96.00%, Validation Accuracy: 94.26%\n",
            "Epoch [196/400], Loss: 0.2060, Train Accuracy: 96.00%, Validation Accuracy: 94.26%\n",
            "Epoch [197/400], Loss: 0.1898, Train Accuracy: 95.70%, Validation Accuracy: 94.26%\n",
            "Epoch [198/400], Loss: 0.1887, Train Accuracy: 96.21%, Validation Accuracy: 94.26%\n",
            "Epoch [199/400], Loss: 0.2106, Train Accuracy: 95.08%, Validation Accuracy: 94.26%\n",
            "Epoch [200/400], Loss: 0.1933, Train Accuracy: 95.80%, Validation Accuracy: 94.26%\n",
            "Epoch [201/400], Loss: 0.1988, Train Accuracy: 95.59%, Validation Accuracy: 94.26%\n",
            "Epoch [202/400], Loss: 0.1977, Train Accuracy: 95.70%, Validation Accuracy: 94.26%\n",
            "Epoch [203/400], Loss: 0.1862, Train Accuracy: 95.90%, Validation Accuracy: 94.26%\n",
            "Epoch [204/400], Loss: 0.1906, Train Accuracy: 95.80%, Validation Accuracy: 94.26%\n",
            "Epoch [205/400], Loss: 0.1882, Train Accuracy: 96.11%, Validation Accuracy: 94.26%\n",
            "Epoch [206/400], Loss: 0.1835, Train Accuracy: 95.80%, Validation Accuracy: 94.26%\n",
            "Epoch [207/400], Loss: 0.1853, Train Accuracy: 94.88%, Validation Accuracy: 94.26%\n",
            "Epoch [208/400], Loss: 0.1841, Train Accuracy: 95.80%, Validation Accuracy: 94.26%\n",
            "Epoch [209/400], Loss: 0.1695, Train Accuracy: 96.52%, Validation Accuracy: 94.26%\n",
            "Epoch [210/400], Loss: 0.1766, Train Accuracy: 96.11%, Validation Accuracy: 94.26%\n",
            "Epoch [211/400], Loss: 0.1843, Train Accuracy: 95.80%, Validation Accuracy: 94.26%\n",
            "Epoch [212/400], Loss: 0.1753, Train Accuracy: 95.59%, Validation Accuracy: 94.26%\n",
            "Epoch [213/400], Loss: 0.1872, Train Accuracy: 95.70%, Validation Accuracy: 94.26%\n",
            "Epoch [214/400], Loss: 0.1788, Train Accuracy: 95.59%, Validation Accuracy: 94.26%\n",
            "Epoch [215/400], Loss: 0.1752, Train Accuracy: 96.21%, Validation Accuracy: 94.26%\n",
            "Epoch [216/400], Loss: 0.1709, Train Accuracy: 96.41%, Validation Accuracy: 94.26%\n",
            "Epoch [217/400], Loss: 0.1664, Train Accuracy: 96.31%, Validation Accuracy: 94.26%\n",
            "Epoch [218/400], Loss: 0.1645, Train Accuracy: 96.41%, Validation Accuracy: 94.26%\n",
            "Epoch [219/400], Loss: 0.1708, Train Accuracy: 96.00%, Validation Accuracy: 94.26%\n",
            "Epoch [220/400], Loss: 0.1985, Train Accuracy: 96.00%, Validation Accuracy: 94.26%\n",
            "Epoch [221/400], Loss: 0.1786, Train Accuracy: 95.80%, Validation Accuracy: 94.26%\n",
            "Epoch [222/400], Loss: 0.1812, Train Accuracy: 94.88%, Validation Accuracy: 94.26%\n",
            "Epoch [223/400], Loss: 0.1670, Train Accuracy: 96.41%, Validation Accuracy: 94.26%\n",
            "Epoch [224/400], Loss: 0.1788, Train Accuracy: 96.62%, Validation Accuracy: 94.26%\n",
            "Epoch [225/400], Loss: 0.1718, Train Accuracy: 96.11%, Validation Accuracy: 94.26%\n",
            "Epoch [226/400], Loss: 0.1578, Train Accuracy: 96.52%, Validation Accuracy: 94.26%\n",
            "Epoch [227/400], Loss: 0.1845, Train Accuracy: 95.70%, Validation Accuracy: 94.26%\n",
            "Epoch [228/400], Loss: 0.1716, Train Accuracy: 96.52%, Validation Accuracy: 94.26%\n",
            "Epoch [229/400], Loss: 0.1737, Train Accuracy: 95.70%, Validation Accuracy: 94.26%\n",
            "Epoch [230/400], Loss: 0.1616, Train Accuracy: 96.11%, Validation Accuracy: 94.26%\n",
            "Epoch [231/400], Loss: 0.1807, Train Accuracy: 96.52%, Validation Accuracy: 94.26%\n",
            "Epoch [232/400], Loss: 0.1658, Train Accuracy: 95.70%, Validation Accuracy: 94.26%\n",
            "Epoch [233/400], Loss: 0.1702, Train Accuracy: 95.39%, Validation Accuracy: 94.26%\n",
            "Epoch [234/400], Loss: 0.1618, Train Accuracy: 95.90%, Validation Accuracy: 94.26%\n",
            "Epoch [235/400], Loss: 0.1582, Train Accuracy: 96.52%, Validation Accuracy: 94.26%\n",
            "Epoch [236/400], Loss: 0.1605, Train Accuracy: 95.90%, Validation Accuracy: 94.26%\n",
            "Epoch [237/400], Loss: 0.1519, Train Accuracy: 96.62%, Validation Accuracy: 94.26%\n",
            "Epoch [238/400], Loss: 0.1617, Train Accuracy: 96.52%, Validation Accuracy: 94.26%\n",
            "Epoch [239/400], Loss: 0.1662, Train Accuracy: 95.39%, Validation Accuracy: 94.26%\n",
            "Epoch [240/400], Loss: 0.1604, Train Accuracy: 95.80%, Validation Accuracy: 94.26%\n",
            "Epoch [241/400], Loss: 0.1424, Train Accuracy: 97.03%, Validation Accuracy: 94.26%\n",
            "Epoch [242/400], Loss: 0.1689, Train Accuracy: 96.31%, Validation Accuracy: 94.26%\n",
            "Epoch [243/400], Loss: 0.1484, Train Accuracy: 95.90%, Validation Accuracy: 94.26%\n",
            "Epoch [244/400], Loss: 0.1681, Train Accuracy: 96.21%, Validation Accuracy: 94.26%\n",
            "Epoch [245/400], Loss: 0.1433, Train Accuracy: 96.72%, Validation Accuracy: 94.26%\n",
            "Epoch [246/400], Loss: 0.1520, Train Accuracy: 96.31%, Validation Accuracy: 94.26%\n",
            "Epoch [247/400], Loss: 0.1594, Train Accuracy: 96.11%, Validation Accuracy: 94.26%\n",
            "Epoch [248/400], Loss: 0.1482, Train Accuracy: 96.41%, Validation Accuracy: 94.26%\n",
            "Epoch [249/400], Loss: 0.1650, Train Accuracy: 95.59%, Validation Accuracy: 94.26%\n",
            "Epoch [250/400], Loss: 0.1469, Train Accuracy: 96.93%, Validation Accuracy: 94.26%\n",
            "Epoch [251/400], Loss: 0.1400, Train Accuracy: 97.13%, Validation Accuracy: 94.26%\n",
            "Epoch [252/400], Loss: 0.1564, Train Accuracy: 96.52%, Validation Accuracy: 94.26%\n",
            "Epoch [253/400], Loss: 0.1588, Train Accuracy: 95.39%, Validation Accuracy: 94.26%\n",
            "Epoch [254/400], Loss: 0.1520, Train Accuracy: 95.90%, Validation Accuracy: 94.26%\n",
            "Epoch [255/400], Loss: 0.1500, Train Accuracy: 96.62%, Validation Accuracy: 95.08%\n",
            "Epoch [256/400], Loss: 0.1540, Train Accuracy: 96.41%, Validation Accuracy: 95.08%\n",
            "Epoch [257/400], Loss: 0.1355, Train Accuracy: 96.11%, Validation Accuracy: 94.67%\n",
            "Epoch [258/400], Loss: 0.1737, Train Accuracy: 96.62%, Validation Accuracy: 94.26%\n",
            "Epoch [259/400], Loss: 0.1420, Train Accuracy: 96.62%, Validation Accuracy: 94.67%\n",
            "Epoch [260/400], Loss: 0.1468, Train Accuracy: 96.41%, Validation Accuracy: 94.67%\n",
            "Epoch [261/400], Loss: 0.1451, Train Accuracy: 96.21%, Validation Accuracy: 94.26%\n",
            "Epoch [262/400], Loss: 0.1505, Train Accuracy: 95.49%, Validation Accuracy: 94.26%\n",
            "Epoch [263/400], Loss: 0.1463, Train Accuracy: 96.31%, Validation Accuracy: 94.26%\n",
            "Epoch [264/400], Loss: 0.1428, Train Accuracy: 96.93%, Validation Accuracy: 94.26%\n",
            "Epoch [265/400], Loss: 0.1459, Train Accuracy: 97.03%, Validation Accuracy: 94.67%\n",
            "Epoch [266/400], Loss: 0.1489, Train Accuracy: 96.21%, Validation Accuracy: 94.67%\n",
            "Epoch [267/400], Loss: 0.1550, Train Accuracy: 95.90%, Validation Accuracy: 94.67%\n",
            "Epoch [268/400], Loss: 0.1394, Train Accuracy: 96.93%, Validation Accuracy: 94.67%\n",
            "Epoch [269/400], Loss: 0.1394, Train Accuracy: 96.41%, Validation Accuracy: 94.67%\n",
            "Epoch [270/400], Loss: 0.1426, Train Accuracy: 95.90%, Validation Accuracy: 94.67%\n",
            "Epoch [271/400], Loss: 0.1283, Train Accuracy: 97.13%, Validation Accuracy: 94.67%\n",
            "Epoch [272/400], Loss: 0.1459, Train Accuracy: 96.82%, Validation Accuracy: 94.67%\n",
            "Epoch [273/400], Loss: 0.1354, Train Accuracy: 96.82%, Validation Accuracy: 95.08%\n",
            "Epoch [274/400], Loss: 0.1401, Train Accuracy: 97.13%, Validation Accuracy: 95.08%\n",
            "Epoch [275/400], Loss: 0.1566, Train Accuracy: 96.11%, Validation Accuracy: 95.08%\n",
            "Epoch [276/400], Loss: 0.1319, Train Accuracy: 96.21%, Validation Accuracy: 94.67%\n",
            "Epoch [277/400], Loss: 0.1337, Train Accuracy: 97.23%, Validation Accuracy: 94.67%\n",
            "Epoch [278/400], Loss: 0.1404, Train Accuracy: 96.93%, Validation Accuracy: 94.67%\n",
            "Epoch [279/400], Loss: 0.1507, Train Accuracy: 96.21%, Validation Accuracy: 94.67%\n",
            "Epoch [280/400], Loss: 0.1445, Train Accuracy: 96.93%, Validation Accuracy: 95.08%\n",
            "Epoch [281/400], Loss: 0.1347, Train Accuracy: 96.72%, Validation Accuracy: 94.26%\n",
            "Epoch [282/400], Loss: 0.1556, Train Accuracy: 96.31%, Validation Accuracy: 94.67%\n",
            "Epoch [283/400], Loss: 0.1280, Train Accuracy: 96.82%, Validation Accuracy: 94.67%\n",
            "Epoch [284/400], Loss: 0.1328, Train Accuracy: 96.31%, Validation Accuracy: 94.67%\n",
            "Epoch [285/400], Loss: 0.1340, Train Accuracy: 96.52%, Validation Accuracy: 94.67%\n",
            "Epoch [286/400], Loss: 0.1363, Train Accuracy: 96.31%, Validation Accuracy: 94.67%\n",
            "Epoch [287/400], Loss: 0.1284, Train Accuracy: 96.93%, Validation Accuracy: 94.67%\n",
            "Epoch [288/400], Loss: 0.1345, Train Accuracy: 96.62%, Validation Accuracy: 94.67%\n",
            "Epoch [289/400], Loss: 0.1210, Train Accuracy: 97.64%, Validation Accuracy: 94.67%\n",
            "Epoch [290/400], Loss: 0.1263, Train Accuracy: 96.72%, Validation Accuracy: 94.67%\n",
            "Epoch [291/400], Loss: 0.1478, Train Accuracy: 96.00%, Validation Accuracy: 94.67%\n",
            "Epoch [292/400], Loss: 0.1281, Train Accuracy: 97.03%, Validation Accuracy: 94.67%\n",
            "Epoch [293/400], Loss: 0.1401, Train Accuracy: 96.52%, Validation Accuracy: 94.67%\n",
            "Epoch [294/400], Loss: 0.1588, Train Accuracy: 96.31%, Validation Accuracy: 94.67%\n",
            "Epoch [295/400], Loss: 0.1295, Train Accuracy: 96.52%, Validation Accuracy: 94.26%\n",
            "Epoch [296/400], Loss: 0.1303, Train Accuracy: 96.41%, Validation Accuracy: 94.67%\n",
            "Epoch [297/400], Loss: 0.1286, Train Accuracy: 96.21%, Validation Accuracy: 94.67%\n",
            "Epoch [298/400], Loss: 0.1343, Train Accuracy: 96.62%, Validation Accuracy: 94.67%\n",
            "Epoch [299/400], Loss: 0.1246, Train Accuracy: 96.93%, Validation Accuracy: 94.67%\n",
            "Epoch [300/400], Loss: 0.1320, Train Accuracy: 96.52%, Validation Accuracy: 94.67%\n",
            "Epoch [301/400], Loss: 0.1321, Train Accuracy: 96.82%, Validation Accuracy: 94.67%\n",
            "Epoch [302/400], Loss: 0.1381, Train Accuracy: 97.03%, Validation Accuracy: 94.26%\n",
            "Epoch [303/400], Loss: 0.1348, Train Accuracy: 96.82%, Validation Accuracy: 94.67%\n",
            "Epoch [304/400], Loss: 0.1193, Train Accuracy: 97.34%, Validation Accuracy: 94.67%\n",
            "Epoch [305/400], Loss: 0.1145, Train Accuracy: 97.64%, Validation Accuracy: 94.67%\n",
            "Epoch [306/400], Loss: 0.1195, Train Accuracy: 97.13%, Validation Accuracy: 94.67%\n",
            "Epoch [307/400], Loss: 0.1245, Train Accuracy: 97.34%, Validation Accuracy: 95.08%\n",
            "Epoch [308/400], Loss: 0.1311, Train Accuracy: 96.41%, Validation Accuracy: 94.67%\n",
            "Epoch [309/400], Loss: 0.1202, Train Accuracy: 96.21%, Validation Accuracy: 94.67%\n",
            "Epoch [310/400], Loss: 0.1228, Train Accuracy: 97.13%, Validation Accuracy: 94.67%\n",
            "Epoch [311/400], Loss: 0.1437, Train Accuracy: 96.21%, Validation Accuracy: 94.67%\n",
            "Epoch [312/400], Loss: 0.1321, Train Accuracy: 96.00%, Validation Accuracy: 94.67%\n",
            "Epoch [313/400], Loss: 0.1124, Train Accuracy: 97.75%, Validation Accuracy: 94.67%\n",
            "Epoch [314/400], Loss: 0.1198, Train Accuracy: 97.34%, Validation Accuracy: 94.67%\n",
            "Epoch [315/400], Loss: 0.1308, Train Accuracy: 96.41%, Validation Accuracy: 94.67%\n",
            "Epoch [316/400], Loss: 0.1375, Train Accuracy: 96.52%, Validation Accuracy: 95.08%\n",
            "Epoch [317/400], Loss: 0.1159, Train Accuracy: 96.41%, Validation Accuracy: 95.08%\n",
            "Epoch [318/400], Loss: 0.1207, Train Accuracy: 97.85%, Validation Accuracy: 95.08%\n",
            "Epoch [319/400], Loss: 0.1197, Train Accuracy: 96.93%, Validation Accuracy: 95.08%\n",
            "Epoch [320/400], Loss: 0.1167, Train Accuracy: 97.34%, Validation Accuracy: 95.08%\n",
            "Epoch [321/400], Loss: 0.1052, Train Accuracy: 97.44%, Validation Accuracy: 95.08%\n",
            "Epoch [322/400], Loss: 0.1285, Train Accuracy: 97.03%, Validation Accuracy: 95.08%\n",
            "Epoch [323/400], Loss: 0.1151, Train Accuracy: 97.34%, Validation Accuracy: 95.08%\n",
            "Epoch [324/400], Loss: 0.1243, Train Accuracy: 97.23%, Validation Accuracy: 95.08%\n",
            "Epoch [325/400], Loss: 0.1204, Train Accuracy: 97.13%, Validation Accuracy: 94.67%\n",
            "Epoch [326/400], Loss: 0.1383, Train Accuracy: 95.80%, Validation Accuracy: 94.67%\n",
            "Epoch [327/400], Loss: 0.1250, Train Accuracy: 96.52%, Validation Accuracy: 94.67%\n",
            "Epoch [328/400], Loss: 0.1036, Train Accuracy: 97.54%, Validation Accuracy: 94.67%\n",
            "Epoch [329/400], Loss: 0.1155, Train Accuracy: 96.93%, Validation Accuracy: 95.08%\n",
            "Epoch [330/400], Loss: 0.1432, Train Accuracy: 96.72%, Validation Accuracy: 94.67%\n",
            "Epoch [331/400], Loss: 0.1256, Train Accuracy: 97.03%, Validation Accuracy: 95.08%\n",
            "Epoch [332/400], Loss: 0.1056, Train Accuracy: 97.54%, Validation Accuracy: 95.08%\n",
            "Epoch [333/400], Loss: 0.1243, Train Accuracy: 96.93%, Validation Accuracy: 95.08%\n",
            "Epoch [334/400], Loss: 0.1173, Train Accuracy: 96.82%, Validation Accuracy: 95.08%\n",
            "Epoch [335/400], Loss: 0.1136, Train Accuracy: 97.34%, Validation Accuracy: 95.08%\n",
            "Epoch [336/400], Loss: 0.1453, Train Accuracy: 96.31%, Validation Accuracy: 95.49%\n",
            "Epoch [337/400], Loss: 0.1205, Train Accuracy: 96.72%, Validation Accuracy: 95.49%\n",
            "Epoch [338/400], Loss: 0.1127, Train Accuracy: 96.52%, Validation Accuracy: 95.49%\n",
            "Epoch [339/400], Loss: 0.1030, Train Accuracy: 97.54%, Validation Accuracy: 95.08%\n",
            "Epoch [340/400], Loss: 0.1108, Train Accuracy: 97.13%, Validation Accuracy: 95.08%\n",
            "Epoch [341/400], Loss: 0.1122, Train Accuracy: 97.23%, Validation Accuracy: 95.08%\n",
            "Epoch [342/400], Loss: 0.1249, Train Accuracy: 97.23%, Validation Accuracy: 95.08%\n",
            "Epoch [343/400], Loss: 0.1094, Train Accuracy: 97.34%, Validation Accuracy: 95.08%\n",
            "Epoch [344/400], Loss: 0.1102, Train Accuracy: 96.72%, Validation Accuracy: 95.49%\n",
            "Epoch [345/400], Loss: 0.1171, Train Accuracy: 97.44%, Validation Accuracy: 95.08%\n",
            "Epoch [346/400], Loss: 0.1124, Train Accuracy: 97.34%, Validation Accuracy: 95.08%\n",
            "Epoch [347/400], Loss: 0.1074, Train Accuracy: 97.23%, Validation Accuracy: 95.08%\n",
            "Epoch [348/400], Loss: 0.1195, Train Accuracy: 97.23%, Validation Accuracy: 95.08%\n",
            "Epoch [349/400], Loss: 0.1018, Train Accuracy: 97.44%, Validation Accuracy: 95.08%\n",
            "Epoch [350/400], Loss: 0.1045, Train Accuracy: 98.16%, Validation Accuracy: 95.08%\n",
            "Epoch [351/400], Loss: 0.0991, Train Accuracy: 97.54%, Validation Accuracy: 95.08%\n",
            "Epoch [352/400], Loss: 0.1175, Train Accuracy: 97.23%, Validation Accuracy: 95.08%\n",
            "Epoch [353/400], Loss: 0.1012, Train Accuracy: 97.34%, Validation Accuracy: 95.49%\n",
            "Epoch [354/400], Loss: 0.0985, Train Accuracy: 98.16%, Validation Accuracy: 95.08%\n",
            "Epoch [355/400], Loss: 0.0977, Train Accuracy: 98.26%, Validation Accuracy: 95.49%\n",
            "Epoch [356/400], Loss: 0.1214, Train Accuracy: 97.03%, Validation Accuracy: 95.49%\n",
            "Epoch [357/400], Loss: 0.1100, Train Accuracy: 97.13%, Validation Accuracy: 95.49%\n",
            "Epoch [358/400], Loss: 0.1057, Train Accuracy: 97.54%, Validation Accuracy: 95.49%\n",
            "Epoch [359/400], Loss: 0.1132, Train Accuracy: 97.23%, Validation Accuracy: 95.49%\n",
            "Epoch [360/400], Loss: 0.1098, Train Accuracy: 96.82%, Validation Accuracy: 95.08%\n",
            "Epoch [361/400], Loss: 0.1139, Train Accuracy: 96.41%, Validation Accuracy: 95.08%\n",
            "Epoch [362/400], Loss: 0.1011, Train Accuracy: 97.64%, Validation Accuracy: 95.08%\n",
            "Epoch [363/400], Loss: 0.0973, Train Accuracy: 98.16%, Validation Accuracy: 95.49%\n",
            "Epoch [364/400], Loss: 0.1056, Train Accuracy: 96.82%, Validation Accuracy: 95.49%\n",
            "Epoch [365/400], Loss: 0.1076, Train Accuracy: 97.64%, Validation Accuracy: 95.49%\n",
            "Epoch [366/400], Loss: 0.1031, Train Accuracy: 97.23%, Validation Accuracy: 95.49%\n",
            "Epoch [367/400], Loss: 0.1144, Train Accuracy: 97.54%, Validation Accuracy: 95.49%\n",
            "Epoch [368/400], Loss: 0.1023, Train Accuracy: 97.23%, Validation Accuracy: 95.49%\n",
            "Epoch [369/400], Loss: 0.1034, Train Accuracy: 97.34%, Validation Accuracy: 95.49%\n",
            "Epoch [370/400], Loss: 0.1255, Train Accuracy: 96.00%, Validation Accuracy: 95.49%\n",
            "Epoch [371/400], Loss: 0.1303, Train Accuracy: 96.82%, Validation Accuracy: 95.49%\n",
            "Epoch [372/400], Loss: 0.0997, Train Accuracy: 97.34%, Validation Accuracy: 95.49%\n",
            "Epoch [373/400], Loss: 0.1111, Train Accuracy: 96.93%, Validation Accuracy: 95.49%\n",
            "Epoch [374/400], Loss: 0.1232, Train Accuracy: 96.62%, Validation Accuracy: 95.08%\n",
            "Epoch [375/400], Loss: 0.0950, Train Accuracy: 97.95%, Validation Accuracy: 95.08%\n",
            "Epoch [376/400], Loss: 0.1273, Train Accuracy: 96.72%, Validation Accuracy: 95.08%\n",
            "Epoch [377/400], Loss: 0.1176, Train Accuracy: 96.93%, Validation Accuracy: 95.08%\n",
            "Epoch [378/400], Loss: 0.1068, Train Accuracy: 97.34%, Validation Accuracy: 95.08%\n",
            "Epoch [379/400], Loss: 0.0947, Train Accuracy: 98.16%, Validation Accuracy: 95.49%\n",
            "Epoch [380/400], Loss: 0.1081, Train Accuracy: 97.13%, Validation Accuracy: 95.49%\n",
            "Epoch [381/400], Loss: 0.1266, Train Accuracy: 95.80%, Validation Accuracy: 95.49%\n",
            "Epoch [382/400], Loss: 0.1127, Train Accuracy: 97.44%, Validation Accuracy: 95.49%\n",
            "Epoch [383/400], Loss: 0.1038, Train Accuracy: 97.23%, Validation Accuracy: 95.08%\n",
            "Epoch [384/400], Loss: 0.1102, Train Accuracy: 96.62%, Validation Accuracy: 95.49%\n",
            "Epoch [385/400], Loss: 0.0957, Train Accuracy: 97.54%, Validation Accuracy: 95.49%\n",
            "Epoch [386/400], Loss: 0.1079, Train Accuracy: 97.34%, Validation Accuracy: 95.49%\n",
            "Epoch [387/400], Loss: 0.0992, Train Accuracy: 97.85%, Validation Accuracy: 95.49%\n",
            "Epoch [388/400], Loss: 0.0928, Train Accuracy: 98.16%, Validation Accuracy: 95.49%\n",
            "Epoch [389/400], Loss: 0.0971, Train Accuracy: 97.54%, Validation Accuracy: 95.08%\n",
            "Epoch [390/400], Loss: 0.1065, Train Accuracy: 96.72%, Validation Accuracy: 95.08%\n",
            "Epoch [391/400], Loss: 0.0981, Train Accuracy: 97.64%, Validation Accuracy: 95.08%\n",
            "Epoch [392/400], Loss: 0.0944, Train Accuracy: 97.54%, Validation Accuracy: 95.49%\n",
            "Epoch [393/400], Loss: 0.0996, Train Accuracy: 97.34%, Validation Accuracy: 95.49%\n",
            "Epoch [394/400], Loss: 0.1040, Train Accuracy: 97.44%, Validation Accuracy: 95.90%\n",
            "Epoch [395/400], Loss: 0.0992, Train Accuracy: 97.54%, Validation Accuracy: 95.90%\n",
            "Epoch [396/400], Loss: 0.1083, Train Accuracy: 97.64%, Validation Accuracy: 95.49%\n",
            "Epoch [397/400], Loss: 0.1049, Train Accuracy: 97.13%, Validation Accuracy: 95.49%\n",
            "Epoch [398/400], Loss: 0.1047, Train Accuracy: 97.34%, Validation Accuracy: 95.08%\n",
            "Epoch [399/400], Loss: 0.0928, Train Accuracy: 97.75%, Validation Accuracy: 94.67%\n",
            "Epoch [400/400], Loss: 0.0855, Train Accuracy: 97.85%, Validation Accuracy: 95.49%\n"
          ]
        }
      ]
    },
    {
      "cell_type": "code",
      "source": [
        "#Plot Accuracy during train\n",
        "plt.plot(train_accs, label='Train Accuracy')\n",
        "plt.plot(val_accs, label='Validation Accuracy')\n",
        "plt.xlabel('Epoch')\n",
        "plt.ylabel('Accuracy')\n",
        "plt.legend()\n",
        "plt.show()\n",
        "\n",
        "#Plot Loss during train\n",
        "plt.plot(train_losses, label='Train Loss')\n",
        "plt.plot(val_losses, label='Validation Loss')\n",
        "plt.xlabel('Epoch')\n",
        "plt.ylabel('Loss')\n",
        "plt.legend()\n",
        "plt.show()"
      ],
      "metadata": {
        "id": "D1rKV_Lc-Sez",
        "colab": {
          "base_uri": "https://localhost:8080/",
          "height": 881
        },
        "outputId": "88cb6880-3a05-431f-a91b-fa72e6fc5f50"
      },
      "execution_count": null,
      "outputs": [
        {
          "output_type": "display_data",
          "data": {
            "text/plain": [
              "<Figure size 640x480 with 1 Axes>"
            ],
            "image/png": "[encoded data removed]"
          },
          "metadata": {}
        },
        {
          "output_type": "display_data",
          "data": {
            "text/plain": [
              "<Figure size 640x480 with 1 Axes>"
            ],
            "image/png": "[encoded data removed]"
          },
          "metadata": {}
        }
      ]
    },
    {
      "cell_type": "markdown",
      "source": [
        "##Evaluation"
      ],
      "metadata": {
        "id": "qkckcanDvBve"
      }
    },
    {
      "cell_type": "markdown",
      "source": [
        "###Test Data set"
      ],
      "metadata": {
        "id": "0ZVLRtworpRh"
      }
    },
    {
      "cell_type": "code",
      "source": [
        "# Define dataset transformations and load the MNIST dataset\n",
        "transform = transforms.Compose([transforms.ToTensor()])\n",
        "\n",
        "testset = torchvision.datasets.MNIST(root='./data', train=False, transform=transform, download=True)"
      ],
      "metadata": {
        "id": "HdwxWOMZrMxr"
      },
      "execution_count": null,
      "outputs": []
    },
    {
      "cell_type": "code",
      "source": [
        "# Get the data and labels from the test set:\n",
        "test_images = torch.stack([testset[i][0] for i in range(len(testset))])\n",
        "test_labels = torch.tensor([testset[i][1] for i in range(len(testset))])\n",
        "\n",
        "#reshape labels\n",
        "test_labels = test_labels.view(-1, 1)"
      ],
      "metadata": {
        "id": "A4guDv01ocN8"
      },
      "execution_count": null,
      "outputs": []
    },
    {
      "cell_type": "code",
      "source": [
        "test_images = test_images.to(device)"
      ],
      "metadata": {
        "id": "g7nGAANipD1w"
      },
      "execution_count": null,
      "outputs": []
    },
    {
      "cell_type": "code",
      "source": [
        "model = model.to(device)"
      ],
      "metadata": {
        "id": "rFHnC7EHwXpv"
      },
      "execution_count": null,
      "outputs": []
    },
    {
      "cell_type": "code",
      "source": [
        "# Create a forward hook function to capture features before the fully connected layers\n",
        "features = None\n",
        "\n",
        "def hook(module, input, output):\n",
        "    global features\n",
        "    features = output\n",
        "\n",
        "\n",
        "# Register the hook to the last layer before the fully connected layers\n",
        "model.feature[-1].register_forward_hook(hook)\n",
        "\n",
        "\n",
        "# Pass data through the model\n",
        "with torch.no_grad():\n",
        "    output = model(test_images)"
      ],
      "metadata": {
        "id": "m3uNU2QIoUFe"
      },
      "execution_count": null,
      "outputs": []
    },
    {
      "cell_type": "code",
      "source": [
        "features = features.view(features.size(0),-1)"
      ],
      "metadata": {
        "id": "SHmVu6tspt06"
      },
      "execution_count": null,
      "outputs": []
    },
    {
      "cell_type": "code",
      "source": [
        "test_features = features[:,:max_index]"
      ],
      "metadata": {
        "id": "VJvhATdcpYHb"
      },
      "execution_count": null,
      "outputs": []
    },
    {
      "cell_type": "code",
      "source": [
        "#creat data set with test_features and test_labels\n",
        "test_dataset = TensorDataset(test_features, test_labels)\n",
        "\n",
        "#creat test dataloader\n",
        "test_dataloader = DataLoader(test_dataset, batch_size=batch_size, shuffle=True)"
      ],
      "metadata": {
        "id": "P8X5t_RZpV8N"
      },
      "execution_count": null,
      "outputs": []
    },
    {
      "cell_type": "markdown",
      "source": [
        "###evaluate model with test data set"
      ],
      "metadata": {
        "id": "OKRdy9HXruUC"
      }
    },
    {
      "cell_type": "code",
      "source": [
        "model.to(device)"
      ],
      "metadata": {
        "colab": {
          "base_uri": "https://localhost:8080/"
        },
        "id": "InE9itJfnbvp",
        "outputId": "25430066-565b-4bd3-905c-0e52e60268bb"
      },
      "execution_count": null,
      "outputs": [
        {
          "output_type": "execute_result",
          "data": {
            "text/plain": [
              "AlexNet(\n",
              "  (feature): Sequential(\n",
              "    (0): Conv2d(1, 32, kernel_size=(5, 5), stride=(1, 1), padding=(1, 1))\n",
              "    (1): ReLU(inplace=True)\n",
              "    (2): MaxPool2d(kernel_size=2, stride=1, padding=0, dilation=1, ceil_mode=False)\n",
              "    (3): Conv2d(32, 64, kernel_size=(3, 3), stride=(1, 1), padding=(1, 1))\n",
              "    (4): ReLU(inplace=True)\n",
              "    (5): MaxPool2d(kernel_size=2, stride=2, padding=0, dilation=1, ceil_mode=False)\n",
              "    (6): Conv2d(64, 96, kernel_size=(3, 3), stride=(1, 1), padding=(1, 1))\n",
              "    (7): ReLU(inplace=True)\n",
              "    (8): MaxPool2d(kernel_size=2, stride=1, padding=0, dilation=1, ceil_mode=False)\n",
              "    (9): Conv2d(96, 64, kernel_size=(3, 3), stride=(1, 1), padding=(1, 1))\n",
              "    (10): ReLU(inplace=True)\n",
              "    (11): MaxPool2d(kernel_size=2, stride=1, padding=0, dilation=1, ceil_mode=False)\n",
              "    (12): Conv2d(64, 32, kernel_size=(3, 3), stride=(1, 1), padding=(1, 1))\n",
              "    (13): ReLU(inplace=True)\n",
              "    (14): MaxPool2d(kernel_size=2, stride=1, padding=0, dilation=1, ceil_mode=False)\n",
              "  )\n",
              "  (classifier): Sequential(\n",
              "    (0): Dropout(p=0.5, inplace=False)\n",
              "    (1): Linear(in_features=2592, out_features=2048, bias=True)\n",
              "    (2): ReLU(inplace=True)\n",
              "    (3): Dropout(p=0.5, inplace=False)\n",
              "    (4): Linear(in_features=2048, out_features=1024, bias=True)\n",
              "    (5): ReLU(inplace=True)\n",
              "    (6): Linear(in_features=1024, out_features=10, bias=True)\n",
              "  )\n",
              ")"
            ]
          },
          "metadata": {},
          "execution_count": 62
        }
      ]
    },
    {
      "cell_type": "code",
      "source": [
        "correct = 0\n",
        "total = 0\n",
        "\n",
        "with torch.no_grad():\n",
        "    for images, labels in test_dataloader:\n",
        "        images = images.to(device)\n",
        "        labels = labels.to(device)\n",
        "        images = images.unsqueeze(dim=1)\n",
        "\n",
        "\n",
        "        outputs = model2(images)\n",
        "        outputs = outputs.squeeze()\n",
        "        # print(\"aaaaaaa\",outputs.shape)\n",
        "        labels = labels.squeeze(dim=1)\n",
        "\n",
        "        _, predicted = torch.max(outputs.data, 1)\n",
        "\n",
        "        total += labels.size(0)\n",
        "        correct += (predicted == labels).sum().item()\n",
        "\n",
        "accuracy = (correct / total)*100\n",
        "print('Accuracy For Test Dataset ', accuracy)"
      ],
      "metadata": {
        "colab": {
          "base_uri": "https://localhost:8080/"
        },
        "id": "DW-4VheUvGiz",
        "outputId": "f25a9c13-9eb5-4fa9-a099-b02a8f88776c"
      },
      "execution_count": null,
      "outputs": [
        {
          "output_type": "stream",
          "name": "stdout",
          "text": [
            "Accuracy For Test Dataset  96.14\n"
          ]
        }
      ]
    }
  ]
}